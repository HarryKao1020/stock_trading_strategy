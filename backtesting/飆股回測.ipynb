{
  "nbformat": 4,
  "nbformat_minor": 0,
  "metadata": {
    "colab": {
      "provenance": [],
      "authorship_tag": "ABX9TyN8kCtEr7FMhcpY1kaqePLM",
      "include_colab_link": true
    },
    "kernelspec": {
      "name": "python3",
      "display_name": "Python 3"
    },
    "language_info": {
      "name": "python"
    }
  },
  "cells": [
    {
      "cell_type": "markdown",
      "metadata": {
        "id": "view-in-github",
        "colab_type": "text"
      },
      "source": [
        "<a href=\"https://colab.research.google.com/github/HarryKao1020/stock_trading_strategy/blob/colab/backtesting/%E9%A3%86%E8%82%A1%E5%9B%9E%E6%B8%AC.ipynb\" target=\"_parent\"><img src=\"https://colab.research.google.com/assets/colab-badge.svg\" alt=\"Open In Colab\"/></a>"
      ]
    },
    {
      "cell_type": "code",
      "execution_count": 3,
      "metadata": {
        "colab": {
          "base_uri": "https://localhost:8080/"
        },
        "id": "jc2Gp3oiFZ5h",
        "outputId": "98b25c01-ae14-4a84-aa0e-fbcc9d2367c4"
      },
      "outputs": [
        {
          "output_type": "stream",
          "name": "stdout",
          "text": [
            "Requirement already satisfied: backtesting in /usr/local/lib/python3.10/dist-packages (0.3.3)\n",
            "Requirement already satisfied: numpy>=1.17.0 in /usr/local/lib/python3.10/dist-packages (from backtesting) (1.26.4)\n",
            "Requirement already satisfied: pandas!=0.25.0,>=0.25.0 in /usr/local/lib/python3.10/dist-packages (from backtesting) (2.1.4)\n",
            "Requirement already satisfied: bokeh>=1.4.0 in /usr/local/lib/python3.10/dist-packages (from backtesting) (3.4.3)\n",
            "Requirement already satisfied: Jinja2>=2.9 in /usr/local/lib/python3.10/dist-packages (from bokeh>=1.4.0->backtesting) (3.1.4)\n",
            "Requirement already satisfied: contourpy>=1.2 in /usr/local/lib/python3.10/dist-packages (from bokeh>=1.4.0->backtesting) (1.2.1)\n",
            "Requirement already satisfied: packaging>=16.8 in /usr/local/lib/python3.10/dist-packages (from bokeh>=1.4.0->backtesting) (24.1)\n",
            "Requirement already satisfied: pillow>=7.1.0 in /usr/local/lib/python3.10/dist-packages (from bokeh>=1.4.0->backtesting) (9.4.0)\n",
            "Requirement already satisfied: PyYAML>=3.10 in /usr/local/lib/python3.10/dist-packages (from bokeh>=1.4.0->backtesting) (6.0.2)\n",
            "Requirement already satisfied: tornado>=6.2 in /usr/local/lib/python3.10/dist-packages (from bokeh>=1.4.0->backtesting) (6.3.3)\n",
            "Requirement already satisfied: xyzservices>=2021.09.1 in /usr/local/lib/python3.10/dist-packages (from bokeh>=1.4.0->backtesting) (2024.6.0)\n",
            "Requirement already satisfied: python-dateutil>=2.8.2 in /usr/local/lib/python3.10/dist-packages (from pandas!=0.25.0,>=0.25.0->backtesting) (2.8.2)\n",
            "Requirement already satisfied: pytz>=2020.1 in /usr/local/lib/python3.10/dist-packages (from pandas!=0.25.0,>=0.25.0->backtesting) (2024.1)\n",
            "Requirement already satisfied: tzdata>=2022.1 in /usr/local/lib/python3.10/dist-packages (from pandas!=0.25.0,>=0.25.0->backtesting) (2024.1)\n",
            "Requirement already satisfied: MarkupSafe>=2.0 in /usr/local/lib/python3.10/dist-packages (from Jinja2>=2.9->bokeh>=1.4.0->backtesting) (2.1.5)\n",
            "Requirement already satisfied: six>=1.5 in /usr/local/lib/python3.10/dist-packages (from python-dateutil>=2.8.2->pandas!=0.25.0,>=0.25.0->backtesting) (1.16.0)\n",
            "Requirement already satisfied: shioaji in /usr/local/lib/python3.10/dist-packages (1.2.3)\n",
            "Requirement already satisfied: base58 in /usr/local/lib/python3.10/dist-packages (from shioaji) (2.1.1)\n",
            "Requirement already satisfied: importlib-metadata in /usr/local/lib/python3.10/dist-packages (from shioaji) (8.4.0)\n",
            "Requirement already satisfied: pydantic in /usr/local/lib/python3.10/dist-packages (from shioaji) (2.8.2)\n",
            "Requirement already satisfied: pynacl>=1.3.0 in /usr/local/lib/python3.10/dist-packages (from shioaji) (1.5.0)\n",
            "Requirement already satisfied: pyrsca in /usr/local/lib/python3.10/dist-packages (from shioaji) (0.1.1)\n",
            "Requirement already satisfied: pysolace==0.9.40 in /usr/local/lib/python3.10/dist-packages (from shioaji) (0.9.40)\n",
            "Requirement already satisfied: requests in /usr/local/lib/python3.10/dist-packages (from shioaji) (2.32.3)\n",
            "Requirement already satisfied: sentry-sdk==1.5.12 in /usr/local/lib/python3.10/dist-packages (from shioaji) (1.5.12)\n",
            "Requirement already satisfied: typing-extensions in /usr/local/lib/python3.10/dist-packages (from shioaji) (4.12.2)\n",
            "Requirement already satisfied: xxhash in /usr/local/lib/python3.10/dist-packages (from shioaji) (3.5.0)\n",
            "Requirement already satisfied: loguru==0.6.0 in /usr/local/lib/python3.10/dist-packages (from shioaji) (0.6.0)\n",
            "Requirement already satisfied: filelock==3.4.1 in /usr/local/lib/python3.10/dist-packages (from shioaji) (3.4.1)\n",
            "Requirement already satisfied: orjson in /usr/local/lib/python3.10/dist-packages (from pysolace==0.9.40->shioaji) (3.10.7)\n",
            "Requirement already satisfied: msgpack in /usr/local/lib/python3.10/dist-packages (from pysolace==0.9.40->shioaji) (1.0.8)\n",
            "Requirement already satisfied: urllib3>=1.10.0 in /usr/local/lib/python3.10/dist-packages (from sentry-sdk==1.5.12->shioaji) (2.0.7)\n",
            "Requirement already satisfied: certifi in /usr/local/lib/python3.10/dist-packages (from sentry-sdk==1.5.12->shioaji) (2024.7.4)\n",
            "Requirement already satisfied: cffi>=1.4.1 in /usr/local/lib/python3.10/dist-packages (from pynacl>=1.3.0->shioaji) (1.17.0)\n",
            "Requirement already satisfied: zipp>=0.5 in /usr/local/lib/python3.10/dist-packages (from importlib-metadata->shioaji) (3.20.0)\n",
            "Requirement already satisfied: annotated-types>=0.4.0 in /usr/local/lib/python3.10/dist-packages (from pydantic->shioaji) (0.7.0)\n",
            "Requirement already satisfied: pydantic-core==2.20.1 in /usr/local/lib/python3.10/dist-packages (from pydantic->shioaji) (2.20.1)\n",
            "Requirement already satisfied: charset-normalizer<4,>=2 in /usr/local/lib/python3.10/dist-packages (from requests->shioaji) (3.3.2)\n",
            "Requirement already satisfied: idna<4,>=2.5 in /usr/local/lib/python3.10/dist-packages (from requests->shioaji) (3.7)\n",
            "Requirement already satisfied: pycparser in /usr/local/lib/python3.10/dist-packages (from cffi>=1.4.1->pynacl>=1.3.0->shioaji) (2.22)\n",
            "Response Code: 0 | Event Code: 0 | Info: host '210.59.255.161:80', IP 210.59.255.161:80 (host 1 of 1) (host connection attempt 1 of 1) (total connection attempt 1 of 1) | Event: Session up\n"
          ]
        }
      ],
      "source": [
        "!pip install backtesting\n",
        "!pip install shioaji\n",
        "import numpy as np\n",
        "import pandas as pd\n",
        "import requests\n",
        "import shioaji as sj\n",
        "import matplotlib.pyplot as plt\n",
        "import matplotlib.animation as animation\n",
        "import matplotlib.dates as mdates\n",
        "from datetime import datetime, timedelta\n",
        "from matplotlib.dates import date2num\n",
        "from backtesting import Backtest, Strategy\n",
        "from backtesting.lib import crossover\n",
        "from backtesting.test import SMA\n",
        "from google.colab import userdata\n",
        "\n",
        "# 建立API物件，simulation=True是代表測試帳號\n",
        "api = sj.Shioaji(simulation=True)\n",
        "\n",
        "#==== for Colab\n",
        "shioaji_secret=userdata.get('SHIOAJI_SECRETKEY')\n",
        "shioaji_apikey=userdata.get('SHIOAJI_APIKEY')\n",
        "\n",
        "# 登入你的key\n",
        "accounts = api.login(shioaji_apikey, shioaji_secret)\n",
        "\n"
      ]
    },
    {
      "cell_type": "code",
      "source": [
        "# 日k的資料\n",
        "\n",
        "def get_daily_kbar(stock_code, start_date, end_date):\n",
        "  kbars = api.kbars(\n",
        "    contract=api.Contracts.Stocks[stock_code],\n",
        "    start=start_date,\n",
        "    end=end_date,\n",
        "  )\n",
        "  df = pd.DataFrame({**kbars})\n",
        "  df.ts = pd.to_datetime(df.ts)\n",
        "\n",
        "  # 依照日期分組，並計算每組的Open, Close, High, Low\n",
        "  daily_kbar = df.resample('D', on='ts').agg({\n",
        "      'Open': 'first',\n",
        "      'Close': 'last',\n",
        "      'High': 'max',\n",
        "      'Low': 'min',\n",
        "      'Volume': 'sum'  # 計算每日成交量的總和\n",
        "  }).dropna()  # 移除空白的天數\n",
        "  # 計算當日漲跌幅\n",
        "  # 取得前一天的Close價\n",
        "  daily_kbar['Previous_Close'] = daily_kbar['Close'].shift(1)\n",
        "\n",
        "  # 計算今天的漲跌幅 (今天的Close - 昨天的Close) / 昨天的Close * 100\n",
        "  daily_kbar['Change_Percentage'] = ((daily_kbar['Close'] - daily_kbar['Previous_Close']) / daily_kbar['Previous_Close'] * 100).round(2)\n",
        "\n",
        "  # 計算當日震幅\n",
        "  daily_kbar['Amplitude'] = ((daily_kbar['High'] - daily_kbar['Low']) / daily_kbar['High'] * 100).round(2)\n",
        "\n",
        "  # 移除前一天沒有數據的行\n",
        "  daily_kbar = daily_kbar.dropna(subset=['Previous_Close'])\n",
        "  # 將結果輸出到Excel檔案\n",
        "  daily_kbar.to_excel(f'{stock_code}-daily_kbar.xlsx', index=True)  # `index=True` 會將日期作為列索引輸出\n",
        "  return daily_kbar\n"
      ],
      "metadata": {
        "id": "lpNJm_afJEl2"
      },
      "execution_count": 15,
      "outputs": []
    },
    {
      "cell_type": "code",
      "source": [
        "start_day =\"2020-01-01\"\n",
        "end_day = \"2020-12-31\"\n",
        "\n",
        "goodStockList2020=[4743,6443,6531,4128,3545 ,6547,2609 ,8046 ,3218 ,6492 ,2368 ,2603 ,4961 ,2303 ,2615 ,3661 ,5269 ,4142 ,6415, 3374]\n",
        "for(stock_code)in goodStockList2020:\n",
        "    stock_code = str(stock_code)\n",
        "    get_daily_kbar(stock_code,start_day,end_day)\n",
        "\n",
        "# get_daily_kbar(f\"{stock_code}\",start_day,end_day)"
      ],
      "metadata": {
        "colab": {
          "base_uri": "https://localhost:8080/"
        },
        "id": "HXw0p4fmO8Y6",
        "outputId": "67c49c56-c5a4-4c9b-cf6c-b1d1f4657929"
      },
      "execution_count": 16,
      "outputs": [
        {
          "output_type": "stream",
          "name": "stdout",
          "text": [
            "4743\n",
            "6443\n",
            "6531\n",
            "4128\n",
            "3545\n",
            "6547\n",
            "2609\n",
            "8046\n",
            "3218\n",
            "6492\n",
            "2368\n",
            "2603\n",
            "4961\n",
            "2303\n",
            "2615\n",
            "3661\n",
            "5269\n",
            "4142\n",
            "6415\n",
            "3374\n"
          ]
        }
      ]
    },
    {
      "cell_type": "code",
      "source": [
        "print(api.usage())"
      ],
      "metadata": {
        "colab": {
          "base_uri": "https://localhost:8080/"
        },
        "id": "rBEgfYrgYNmf",
        "outputId": "f84fcacb-64ca-4d2b-e64a-fe7d166b7563"
      },
      "execution_count": 17,
      "outputs": [
        {
          "output_type": "stream",
          "name": "stdout",
          "text": [
            "connections=1 bytes=286908392 limit_bytes=524288000 remaining_bytes=237379608\n"
          ]
        }
      ]
    }
  ]
}