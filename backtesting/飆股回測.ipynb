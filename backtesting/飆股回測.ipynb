{
  "nbformat": 4,
  "nbformat_minor": 0,
  "metadata": {
    "colab": {
      "provenance": [],
      "authorship_tag": "ABX9TyPG6TKVAophv1w9t252Lcy2"
    },
    "kernelspec": {
      "name": "python3",
      "display_name": "Python 3"
    },
    "language_info": {
      "name": "python"
    }
  },
  "cells": [
    {
      "cell_type": "code",
      "execution_count": 47,
      "metadata": {
        "colab": {
          "base_uri": "https://localhost:8080/",
          "height": 501
        },
        "id": "jc2Gp3oiFZ5h",
        "outputId": "36af6d1c-8724-4907-a720-1ef132c9c373"
      },
      "outputs": [
        {
          "output_type": "stream",
          "name": "stdout",
          "text": [
            "Requirement already satisfied: backtrader in /usr/local/lib/python3.10/dist-packages (1.9.78.123)\n",
            "Requirement already satisfied: shioaji in /usr/local/lib/python3.10/dist-packages (1.2.4)\n",
            "Requirement already satisfied: base58 in /usr/local/lib/python3.10/dist-packages (from shioaji) (2.1.1)\n",
            "Requirement already satisfied: importlib-metadata in /usr/local/lib/python3.10/dist-packages (from shioaji) (8.5.0)\n",
            "Requirement already satisfied: pydantic in /usr/local/lib/python3.10/dist-packages (from shioaji) (2.9.1)\n",
            "Requirement already satisfied: pynacl>=1.3.0 in /usr/local/lib/python3.10/dist-packages (from shioaji) (1.5.0)\n",
            "Requirement already satisfied: pyrsca in /usr/local/lib/python3.10/dist-packages (from shioaji) (0.1.1)\n",
            "Requirement already satisfied: pysolace==0.9.40 in /usr/local/lib/python3.10/dist-packages (from shioaji) (0.9.40)\n",
            "Requirement already satisfied: requests in /usr/local/lib/python3.10/dist-packages (from shioaji) (2.32.3)\n",
            "Requirement already satisfied: sentry-sdk==1.5.12 in /usr/local/lib/python3.10/dist-packages (from shioaji) (1.5.12)\n",
            "Requirement already satisfied: typing-extensions in /usr/local/lib/python3.10/dist-packages (from shioaji) (4.12.2)\n",
            "Requirement already satisfied: xxhash in /usr/local/lib/python3.10/dist-packages (from shioaji) (3.5.0)\n",
            "Requirement already satisfied: loguru==0.6.0 in /usr/local/lib/python3.10/dist-packages (from shioaji) (0.6.0)\n",
            "Requirement already satisfied: filelock==3.4.1 in /usr/local/lib/python3.10/dist-packages (from shioaji) (3.4.1)\n",
            "Requirement already satisfied: orjson in /usr/local/lib/python3.10/dist-packages (from pysolace==0.9.40->shioaji) (3.10.7)\n",
            "Requirement already satisfied: msgpack in /usr/local/lib/python3.10/dist-packages (from pysolace==0.9.40->shioaji) (1.0.8)\n",
            "Requirement already satisfied: urllib3>=1.10.0 in /usr/local/lib/python3.10/dist-packages (from sentry-sdk==1.5.12->shioaji) (2.0.7)\n",
            "Requirement already satisfied: certifi in /usr/local/lib/python3.10/dist-packages (from sentry-sdk==1.5.12->shioaji) (2024.8.30)\n",
            "Requirement already satisfied: cffi>=1.4.1 in /usr/local/lib/python3.10/dist-packages (from pynacl>=1.3.0->shioaji) (1.17.1)\n",
            "Requirement already satisfied: zipp>=3.20 in /usr/local/lib/python3.10/dist-packages (from importlib-metadata->shioaji) (3.20.1)\n",
            "Requirement already satisfied: annotated-types>=0.6.0 in /usr/local/lib/python3.10/dist-packages (from pydantic->shioaji) (0.7.0)\n",
            "Requirement already satisfied: pydantic-core==2.23.3 in /usr/local/lib/python3.10/dist-packages (from pydantic->shioaji) (2.23.3)\n",
            "Requirement already satisfied: charset-normalizer<4,>=2 in /usr/local/lib/python3.10/dist-packages (from requests->shioaji) (3.3.2)\n",
            "Requirement already satisfied: idna<4,>=2.5 in /usr/local/lib/python3.10/dist-packages (from requests->shioaji) (3.8)\n",
            "Requirement already satisfied: pycparser in /usr/local/lib/python3.10/dist-packages (from cffi>=1.4.1->pynacl>=1.3.0->shioaji) (2.22)\n",
            "Response Code: 0 | Event Code: 0 | Info: host '210.59.255.161:80', IP 210.59.255.161:80 (host 1 of 1) (host connection attempt 1 of 1) (total connection attempt 1 of 1) | Event: Session up\n"
          ]
        }
      ],
      "source": [
        "!pip install backtrader\n",
        "!pip install shioaji\n",
        "import numpy as np\n",
        "import pandas as pd\n",
        "import requests\n",
        "import shioaji as sj\n",
        "import matplotlib.pyplot as plt\n",
        "import matplotlib.animation as animation\n",
        "import matplotlib.dates as mdates\n",
        "from datetime import datetime, timedelta\n",
        "from matplotlib.dates import date2num\n",
        "import backtrader as bt\n",
        "from google.colab import userdata\n",
        "\n",
        "# 建立API物件，simulation=True是代表測試帳號\n",
        "api = sj.Shioaji(simulation=True)\n",
        "\n",
        "#==== for Colab\n",
        "shioaji_secret=userdata.get('SHIOAJI_SECRETKEY')\n",
        "shioaji_apikey=userdata.get('SHIOAJI_APIKEY')\n",
        "\n",
        "# 登入你的key\n",
        "accounts = api.login(shioaji_apikey, shioaji_secret)\n",
        "\n"
      ]
    },
    {
      "cell_type": "code",
      "source": [
        "def get_daily_kbar(stock_code, start_date, end_date):\n",
        "    kbars = api.kbars(\n",
        "        contract=api.Contracts.Stocks[stock_code],\n",
        "        start=start_date,\n",
        "        end=end_date,\n",
        "    )\n",
        "    # 將 'ts' 列重命名為 'datetime'\n",
        "    df = pd.DataFrame({**kbars}).rename(columns={'ts': 'datetime', 'Open': 'open', 'Close': 'close', 'High': 'high', 'Low': 'low', 'Volume': 'volume'})\n",
        "\n",
        "    # 將 'datetime' 轉換為日期時間格式\n",
        "    df['datetime'] = pd.to_datetime(df['datetime'])\n",
        "\n",
        "    # 依照日期分組，並計算每組的 open, close, high, low, volume\n",
        "    daily_kbar = df.resample('D', on='datetime').agg({\n",
        "        'open': 'first',\n",
        "        'close': 'last',\n",
        "        'high': 'max',\n",
        "        'low': 'min',\n",
        "        'volume': 'sum'  # 計算每日成交量的總和\n",
        "    }).dropna()  # 移除空白的天數\n",
        "\n",
        "    # 計算當日漲跌幅\n",
        "    daily_kbar['previous_close'] = daily_kbar['close'].shift(1)\n",
        "\n",
        "    # 計算今天的漲跌幅 (今天的 close - 昨天的 close) / 昨天的 close * 100\n",
        "    daily_kbar['change_percentage'] = ((daily_kbar['close'] - daily_kbar['previous_close']) / daily_kbar['previous_close'] * 100).round(2)\n",
        "\n",
        "    # 計算當日震幅\n",
        "    daily_kbar['amplitude'] = ((daily_kbar['high'] - daily_kbar['low']) / daily_kbar['high'] * 100).round(2)\n",
        "\n",
        "    # 移除前一天沒有數據的行\n",
        "    daily_kbar = daily_kbar.dropna(subset=['previous_close'])\n",
        "\n",
        "    print(daily_kbar)\n",
        "\n",
        "    # 將結果輸出到 Excel 檔案\n",
        "    # daily_kbar.to_excel(f'{stock_code}-daily_kbar.xlsx', index=True)  # `index=True` 會將日期作為列索引輸出\n",
        "\n",
        "    return daily_kbar\n"
      ],
      "metadata": {
        "id": "lpNJm_afJEl2"
      },
      "execution_count": 48,
      "outputs": []
    },
    {
      "cell_type": "code",
      "source": [
        "start_day =\"2021-01-01\"\n",
        "end_day = \"2023-12-31\"\n",
        "\n",
        "# goodStockList2020=[4743,6443,6531,4128,3545 ,6547,2609 ,8046 ,3218 ,6492 ,2368 ,2603 ,4961 ,2303 ,2615 ,3661 ,5269 ,4142 ,6415, 3374]\n",
        "# for(stock_code)in goodStockList2020:\n",
        "#     stock_code = str(stock_code)\n",
        "#     get_daily_kbar(stock_code,start_day,end_day)\n",
        "\n",
        "# get_daily_kbar(f\"{stock_code}\",start_day,end_day)\n",
        "\n",
        "df_2609 = get_daily_kbar(\"1519\",start_day,end_day)"
      ],
      "metadata": {
        "colab": {
          "base_uri": "https://localhost:8080/",
          "height": 535
        },
        "id": "HXw0p4fmO8Y6",
        "outputId": "c9e2391d-92fe-4be2-a863-56e066288bbd"
      },
      "execution_count": 74,
      "outputs": [
        {
          "output_type": "stream",
          "name": "stdout",
          "text": [
            "              open   close    high     low  volume  previous_close  \\\n",
            "datetime                                                             \n",
            "2021-01-05   48.95   48.75   49.40   48.70    1247           49.00   \n",
            "2021-01-06   48.70   46.85   48.95   46.55    3972           48.75   \n",
            "2021-01-07   46.95   47.80   49.45   46.95    3628           46.85   \n",
            "2021-01-08   48.25   48.50   48.50   46.80    2400           47.80   \n",
            "2021-01-11   48.70   48.30   49.30   48.15    2095           48.50   \n",
            "...            ...     ...     ...     ...     ...             ...   \n",
            "2023-12-25  326.00  333.50  341.00  326.00   12052          321.00   \n",
            "2023-12-26  338.50  315.00  340.50  314.00   15301          333.50   \n",
            "2023-12-27  316.50  316.50  323.50  316.50    8549          315.00   \n",
            "2023-12-28  325.00  348.00  348.00  325.00   18627          316.50   \n",
            "2023-12-29  358.00  327.00  360.50  317.00   34502          348.00   \n",
            "\n",
            "            change_percentage  amplitude  \n",
            "datetime                                  \n",
            "2021-01-05              -0.51       1.42  \n",
            "2021-01-06              -3.90       4.90  \n",
            "2021-01-07               2.03       5.06  \n",
            "2021-01-08               1.46       3.51  \n",
            "2021-01-11              -0.41       2.33  \n",
            "...                       ...        ...  \n",
            "2023-12-25               3.89       4.40  \n",
            "2023-12-26              -5.55       7.78  \n",
            "2023-12-27               0.48       2.16  \n",
            "2023-12-28               9.95       6.61  \n",
            "2023-12-29              -6.03      12.07  \n",
            "\n",
            "[728 rows x 8 columns]\n"
          ]
        }
      ]
    },
    {
      "cell_type": "code",
      "source": [
        "# sma cross strategy\n",
        "class DailyMAStrategy(bt.Strategy):\n",
        "  # 設定參數\n",
        "  params = (('maperiods',[5,10,20,60]),)\n",
        "\n",
        "  def __init__(self):\n",
        "    # 定義移動平均線（5MA, 10MA, 20MA, 60MA）\n",
        "    self.sma5 = bt.ind.SMA(self.data.close, period=self.params.maperiods[0])\n",
        "    self.sma10 = bt.ind.SMA(self.data.close, period=self.params.maperiods[1])\n",
        "    self.sma20 = bt.ind.SMA(self.data.close, period=self.params.maperiods[2])\n",
        "    self.sma60 = bt.ind.SMA(self.data.close, period=self.params.maperiods[3])\n",
        "\n",
        "\n",
        "  def next(self):\n",
        "    # 尾盤的時間點 (假設是當日最後一個時間點)\n",
        "    if len(self.data) < 2:  # 保證有足夠的前一日數據\n",
        "      return\n",
        "\n",
        "    # 買入條件\n",
        "    if not self.position:\n",
        "      if (self.data.close[0] > self.sma5[0] and\n",
        "          self.data.close[0] > self.sma10[0] and\n",
        "          self.data.close[0] > self.sma20[0] and\n",
        "          self.data.close[0] > self.sma60[0] and\n",
        "          self.data.volume[0] > 3* self.data.volume[-1]):\n",
        "\n",
        "          self.buy(size=3000)\n",
        "          print(f\"Buy at {self.data.close[0]} on {self.data.datetime.date(0)}\")\n",
        "\n",
        "    elif self.position:\n",
        "      if self.data.close[0] < self.sma60[0]:\n",
        "        print(f\"Sell at {self.data.close[0]} on {self.data.datetime.date(0)}\")\n",
        "        self.sell(size=3000)\n",
        "\n",
        "\n",
        "\n",
        "\n",
        ""
      ],
      "metadata": {
        "id": "CdQ4SoFl6kNn"
      },
      "execution_count": 79,
      "outputs": []
    },
    {
      "cell_type": "code",
      "source": [
        "cerebro = bt.Cerebro()\n",
        "cerebro.addstrategy(DailyMAStrategy)\n",
        "cerebro.broker.setcash(10**6)\n",
        "data = bt.feeds.PandasData(dataname=df_2609)\n",
        "cerebro.adddata(data)\n",
        "\n",
        "# 券商的手續費\n",
        "cerebro.broker.setcommission(commission=0.1425/100)\n",
        "\n",
        "\n",
        "\n",
        "# 如果跑到最後，還有股票沒有賣出的話，會以當天收盤價的價格來加總\n",
        "print(\"初始資金: %.2f\" % cerebro.broker.getvalue())\n",
        "\n",
        "# 執行策略\n",
        "cerebro.run()\n",
        "\n",
        "print(\"結束資金：%.2f\" % cerebro.broker.getvalue())\n",
        "# # 可視化結果\n",
        "cerebro.plot()"
      ],
      "metadata": {
        "colab": {
          "base_uri": "https://localhost:8080/",
          "height": 374
        },
        "id": "rBEgfYrgYNmf",
        "outputId": "8ed82e92-8d59-46af-dd0d-8c2247217996"
      },
      "execution_count": 80,
      "outputs": [
        {
          "output_type": "stream",
          "name": "stdout",
          "text": [
            "初始資金: 1000000.00\n",
            "Buy at 44.3 on 2021-07-13\n",
            "Sell at 43.85 on 2021-07-14\n",
            "Buy at 36.95 on 2021-12-15\n",
            "Sell at 36.15 on 2022-01-07\n",
            "Buy at 39.6 on 2022-01-11\n",
            "Sell at 36.45 on 2022-02-24\n",
            "Buy at 38.7 on 2022-03-03\n",
            "Sell at 37.0 on 2022-03-08\n",
            "Buy at 42.05 on 2022-03-14\n",
            "Sell at 38.9 on 2022-04-25\n",
            "Buy at 37.0 on 2022-07-14\n",
            "Sell at 39.0 on 2022-10-20\n",
            "Buy at 40.5 on 2022-11-21\n",
            "Sell at 39.95 on 2022-11-23\n",
            "Buy at 42.7 on 2022-12-02\n",
            "Sell at 251.0 on 2023-10-27\n",
            "Buy at 275.0 on 2023-11-24\n",
            "結束資金：1748341.27\n"
          ]
        },
        {
          "output_type": "execute_result",
          "data": {
            "text/plain": [
              "[[<Figure size 640x480 with 4 Axes>]]"
            ]
          },
          "metadata": {},
          "execution_count": 80
        }
      ]
    },
    {
      "cell_type": "code",
      "source": [
        "print(api.usage())"
      ],
      "metadata": {
        "id": "pX71myQhF_mg",
        "outputId": "6fc2b52b-0fb1-40ae-ffb0-5b98dbd83641",
        "colab": {
          "base_uri": "https://localhost:8080/",
          "height": 35
        }
      },
      "execution_count": 81,
      "outputs": [
        {
          "output_type": "stream",
          "name": "stdout",
          "text": [
            "connections=2 bytes=311860143 limit_bytes=524288000 remaining_bytes=212427857\n"
          ]
        }
      ]
    }
  ]
}