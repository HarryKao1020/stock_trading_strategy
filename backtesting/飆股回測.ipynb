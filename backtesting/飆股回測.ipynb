{
  "nbformat": 4,
  "nbformat_minor": 0,
  "metadata": {
    "colab": {
      "provenance": [],
      "authorship_tag": "ABX9TyNE39pEhxo0Jtk65oT5zJbM"
    },
    "kernelspec": {
      "name": "python3",
      "display_name": "Python 3"
    },
    "language_info": {
      "name": "python"
    }
  },
  "cells": [
    {
      "cell_type": "code",
      "execution_count": 3,
      "metadata": {
        "colab": {
          "base_uri": "https://localhost:8080/"
        },
        "id": "jc2Gp3oiFZ5h",
        "outputId": "74c7440f-598e-40b4-b327-b095faef724b"
      },
      "outputs": [
        {
          "output_type": "stream",
          "name": "stdout",
          "text": [
            "Requirement already satisfied: backtrader in /usr/local/lib/python3.10/dist-packages (1.9.78.123)\n",
            "Requirement already satisfied: shioaji in /usr/local/lib/python3.10/dist-packages (1.2.4)\n",
            "Requirement already satisfied: base58 in /usr/local/lib/python3.10/dist-packages (from shioaji) (2.1.1)\n",
            "Requirement already satisfied: importlib-metadata in /usr/local/lib/python3.10/dist-packages (from shioaji) (8.5.0)\n",
            "Requirement already satisfied: pydantic in /usr/local/lib/python3.10/dist-packages (from shioaji) (2.9.2)\n",
            "Requirement already satisfied: pynacl>=1.3.0 in /usr/local/lib/python3.10/dist-packages (from shioaji) (1.5.0)\n",
            "Requirement already satisfied: pyrsca in /usr/local/lib/python3.10/dist-packages (from shioaji) (0.1.1)\n",
            "Requirement already satisfied: pysolace==0.9.40 in /usr/local/lib/python3.10/dist-packages (from shioaji) (0.9.40)\n",
            "Requirement already satisfied: requests in /usr/local/lib/python3.10/dist-packages (from shioaji) (2.32.3)\n",
            "Requirement already satisfied: sentry-sdk==1.5.12 in /usr/local/lib/python3.10/dist-packages (from shioaji) (1.5.12)\n",
            "Requirement already satisfied: typing-extensions in /usr/local/lib/python3.10/dist-packages (from shioaji) (4.12.2)\n",
            "Requirement already satisfied: xxhash in /usr/local/lib/python3.10/dist-packages (from shioaji) (3.5.0)\n",
            "Requirement already satisfied: loguru==0.6.0 in /usr/local/lib/python3.10/dist-packages (from shioaji) (0.6.0)\n",
            "Requirement already satisfied: filelock==3.4.1 in /usr/local/lib/python3.10/dist-packages (from shioaji) (3.4.1)\n",
            "Requirement already satisfied: orjson in /usr/local/lib/python3.10/dist-packages (from pysolace==0.9.40->shioaji) (3.10.7)\n",
            "Requirement already satisfied: msgpack in /usr/local/lib/python3.10/dist-packages (from pysolace==0.9.40->shioaji) (1.0.8)\n",
            "Requirement already satisfied: urllib3>=1.10.0 in /usr/local/lib/python3.10/dist-packages (from sentry-sdk==1.5.12->shioaji) (2.0.7)\n",
            "Requirement already satisfied: certifi in /usr/local/lib/python3.10/dist-packages (from sentry-sdk==1.5.12->shioaji) (2024.8.30)\n",
            "Requirement already satisfied: cffi>=1.4.1 in /usr/local/lib/python3.10/dist-packages (from pynacl>=1.3.0->shioaji) (1.17.1)\n",
            "Requirement already satisfied: zipp>=3.20 in /usr/local/lib/python3.10/dist-packages (from importlib-metadata->shioaji) (3.20.2)\n",
            "Requirement already satisfied: annotated-types>=0.6.0 in /usr/local/lib/python3.10/dist-packages (from pydantic->shioaji) (0.7.0)\n",
            "Requirement already satisfied: pydantic-core==2.23.4 in /usr/local/lib/python3.10/dist-packages (from pydantic->shioaji) (2.23.4)\n",
            "Requirement already satisfied: charset-normalizer<4,>=2 in /usr/local/lib/python3.10/dist-packages (from requests->shioaji) (3.3.2)\n",
            "Requirement already satisfied: idna<4,>=2.5 in /usr/local/lib/python3.10/dist-packages (from requests->shioaji) (3.10)\n",
            "Requirement already satisfied: pycparser in /usr/local/lib/python3.10/dist-packages (from cffi>=1.4.1->pynacl>=1.3.0->shioaji) (2.22)\n",
            "Response Code: 0 | Event Code: 0 | Info: host '210.59.255.161:80', IP 210.59.255.161:80 (host 1 of 1) (host connection attempt 1 of 1) (total connection attempt 1 of 1) | Event: Session up\n"
          ]
        }
      ],
      "source": [
        "!pip install backtrader\n",
        "!pip install shioaji\n",
        "import numpy as np\n",
        "import pandas as pd\n",
        "import requests\n",
        "import shioaji as sj\n",
        "import matplotlib.pyplot as plt\n",
        "import matplotlib.animation as animation\n",
        "import matplotlib.dates as mdates\n",
        "import datetime\n",
        "from datetime import timedelta\n",
        "from matplotlib.dates import date2num\n",
        "import backtrader as bt\n",
        "from google.colab import userdata\n",
        "\n",
        "# 建立API物件，simulation=True是代表測試帳號\n",
        "api = sj.Shioaji(simulation=True)\n",
        "\n",
        "#==== for Colab\n",
        "shioaji_secret=userdata.get('SHIOAJI_SECRETKEY')\n",
        "shioaji_apikey=userdata.get('SHIOAJI_APIKEY')\n",
        "\n",
        "# 登入你的key\n",
        "accounts = api.login(shioaji_apikey, shioaji_secret)\n",
        "\n",
        "\n"
      ]
    },
    {
      "cell_type": "code",
      "source": [
        "# 取得一週的成值排行\n",
        "firday= datetime.date(2024,8,2)\n",
        "monday = firday - timedelta(days=4)\n",
        "def get_weekly_amount_rank_list(firday):\n",
        "  amount_rank_dfs=[]\n",
        "  for i in range(5):\n",
        "    day = firday - timedelta(days=i)\n",
        "    # 成值排行\n",
        "    scanners = api.scanners(\n",
        "          scanner_type=sj.constant.ScannerType.AmountRank,\n",
        "          count=100,\n",
        "          date=str(day)\n",
        "      )\n",
        "    amount_rank_df = pd.DataFrame(s.__dict__ for s in scanners)\n",
        "    if amount_rank_df.empty:\n",
        "      continue\n",
        "    else:\n",
        "      amount_rank_df.ts = pd.to_datetime(amount_rank_df.ts)\n",
        "    new_amount_rank_df=amount_rank_df[[\"code\",\"name\",\"rank_value\"]]\n",
        "    amount_rank_dfs.append(new_amount_rank_df)\n",
        "\n",
        "  amount_rank_weekly=pd.concat(amount_rank_dfs, join='inner')\n",
        "  weekly_amount_rank_df = amount_rank_weekly.groupby('code').agg({\n",
        "      'name': 'first',        # 保留每個 group 的第一個 name\n",
        "      'rank_value': 'sum'     # 對 rank_value 做加總\n",
        "  }).reset_index()\n",
        "\n",
        "  weekly_amount_rank_df.sort_values(by='rank_value', ascending=False, inplace=True)\n",
        "  # 週成交金額>10億\n",
        "  weekly_amount_rank = weekly_amount_rank_df[weekly_amount_rank_df['rank_value'] > 1.e+9]\n",
        "  weekly_amount_rank_code = weekly_amount_rank['code'].tolist()\n",
        "  return weekly_amount_rank_code\n",
        "\n",
        "weekly_amount_rank_list=get_weekly_amount_rank_list(firday)\n",
        "print(weekly_amount_rank_list)\n",
        "\n",
        "\n",
        "\n",
        "def get_weekly_data(stock_code):\n",
        "  # 取得日 K 資料\n",
        "  kbars = api.kbars(\n",
        "      contract=api.Contracts.Stocks[stock_code],\n",
        "      start=str(monday),\n",
        "      end=str(firday),\n",
        "  )\n",
        "\n",
        "  # 將資料轉換為 DataFrame\n",
        "  df = pd.DataFrame({**kbars})\n",
        "  df['ts'] = pd.to_datetime(df['ts'])\n",
        "\n",
        "  # 按週分組，並計算每週的開盤、最高、最低、收盤和成交量\n",
        "  df.set_index('ts', inplace=True)\n",
        "\n",
        "  # 定義週 K 的聚合方式\n",
        "  weekly_kbars = df.resample('W').agg({\n",
        "      'Open': 'first',       # 每週第一天的開盤價\n",
        "      'High': 'max',         # 每週最高價\n",
        "      'Low': 'min',          # 每週最低價\n",
        "      'Close': 'last',       # 每週最後一天的收盤價\n",
        "      'Volume': 'sum'        # 每週總成交量\n",
        "  }).dropna()  # 移除有空值的週\n",
        "  weekly_kbars['close_open_diff_percentage'] = ((weekly_kbars['Close'] - weekly_kbars['Open']) / weekly_kbars['Open'] * 100).round(2)\n",
        "  # 加入 stock_code 欄位，並設置為第一欄\n",
        "  weekly_kbars.insert(0, 'stock_code', stock_code)\n",
        "  return weekly_kbars\n",
        "\n",
        "def get_weekly_good_raise_stock_df(weekly_amount_rank_code_list):\n",
        "  final_good_weekly_stock = []\n",
        "  for stock in weekly_amount_rank_code_list:\n",
        "    weekly_kbars = get_weekly_data(stock)\n",
        "    if weekly_kbars['close_open_diff_percentage'].values[0] >= 15:\n",
        "      final_good_weekly_stock.append(stock)\n",
        "    else:\n",
        "      continue\n",
        "  dfs = []\n",
        "  for good_stock in final_good_weekly_stock:\n",
        "    contract=api.Contracts.Stocks[good_stock]\n",
        "    # 將合約物件的屬性轉換為字典\n",
        "    contract_dict = {\n",
        "        'code': contract.code,\n",
        "        'name': contract.name\n",
        "    }\n",
        "    # 將字典轉換為 DataFrame\n",
        "    df_contract = pd.DataFrame([contract_dict])\n",
        "    dfs.append(df_contract)\n",
        "\n",
        "  # 使用 concat 將所有 DataFrame 合併成一個大的 DataFrame\n",
        "  final_df = pd.concat(dfs, ignore_index=True)\n",
        "  return final_df\n",
        "\n",
        "\n",
        "\n",
        "\n",
        "# print(get_weekly_good_raise_stock_df(weekly_amount_rank_list))"
      ],
      "metadata": {
        "colab": {
          "base_uri": "https://localhost:8080/"
        },
        "id": "TGv6QZ3RO9cw",
        "outputId": "07c159dc-2755-4275-97e7-cfb962be7794"
      },
      "execution_count": 43,
      "outputs": [
        {
          "output_type": "stream",
          "name": "stdout",
          "text": [
            "['2330', '2317', '2454', '2382', '3017', '2308', '3037', '6669', '3661', '5443', '8054', '3443', '2303', '3374', '1519', '8028', '3293', '3324', '2603', '3035', '3663', '3163', '3008', '2365', '2359', '3711', '1513', '3189', '6869', '2327', '2383', '2301', '6446', '2486', '0050', '3231', '2376', '2449', '2609', '3376', '2363', '2357', '2891', '3481', '8064', '3034', '3450', '2524', '3583', '2337', '6462', '2348', '8069', '6640', '1503', '6239', '2368', '2881', '5508', '3665', '2615', '6805', '6643', '2356', '9945', '6187', '6223', '2882', '9906', '3047', '2412', '3533', '1216', '2379', '3580', '6806', '0056', '3105', '3013', '5347', '9958', '4763', '5274', '3131', '2464', '2349', '5269', '2313', '8996', '6125', '6274', '4958', '3653', '8299', '4513', '1514', '2888', '6415', '2059', '2345', '1590', '6472', '2542', '3535', '2467', '4968', '2204', '2362', '2884', '3211', '1560', '3491', '8046', '6488', '2886', '8374', '1609', '1316', '3715', '2360', '4562', '3406', '6531', '2408', '4967', '4533', '6177', '3312', '9921', '2367', '1536', '2344', '5871', '1597', '8096', '1540', '3167', '1808', '3019', '2353', '8210', '6789', '2520', '1795', '6215', '4966', '4938', '3363', '2409', '2618']\n"
          ]
        }
      ]
    },
    {
      "cell_type": "code",
      "source": [
        "firday= datetime.date(2024,2,2)\n",
        "monday = firday - timedelta(days=4)\n",
        "print(get_weekly_good_raise_stock_df(weekly_amount_rank_list))"
      ],
      "metadata": {
        "colab": {
          "base_uri": "https://localhost:8080/"
        },
        "id": "mxayOaLc2p4O",
        "outputId": "56b8a14c-83c0-4553-a618-14f5b0fdb6dd"
      },
      "execution_count": 44,
      "outputs": [
        {
          "output_type": "stream",
          "name": "stdout",
          "text": [
            "    code name\n",
            "0   3017   奇鋐\n",
            "1   8054   安國\n",
            "2   1519   華城\n",
            "3   3324   雙鴻\n",
            "4   2376   技嘉\n",
            "5   3376  新日興\n",
            "6   6462   神盾\n",
            "7   6805  富世達\n",
            "8   6643  M31\n",
            "9   8996   高力\n",
            "10  6274   台燿\n"
          ]
        }
      ]
    },
    {
      "cell_type": "code",
      "source": [
        "\n",
        "\n",
        "# 取得日K資料\n",
        "def get_daily_kbar(stock_code, start_date, end_date):\n",
        "    kbars = api.kbars(\n",
        "        contract=api.Contracts.Stocks[stock_code],\n",
        "        start=start_date,\n",
        "        end=end_date,\n",
        "    )\n",
        "    # 將 'ts' 列重命名為 'datetime'\n",
        "    df = pd.DataFrame({**kbars}).rename(columns={'ts': 'datetime', 'Open': 'open', 'Close': 'close', 'High': 'high', 'Low': 'low', 'Volume': 'volume'})\n",
        "\n",
        "    # 將 'datetime' 轉換為日期時間格式\n",
        "    df['datetime'] = pd.to_datetime(df['datetime'])\n",
        "\n",
        "    # 依照日期分組，並計算每組的 open, close, high, low, volume\n",
        "    daily_kbar = df.resample('D', on='datetime').agg({\n",
        "        'open': 'first',\n",
        "        'close': 'last',\n",
        "        'high': 'max',\n",
        "        'low': 'min',\n",
        "        'volume': 'sum'  # 計算每日成交量的總和\n",
        "    }).dropna()  # 移除空白的天數\n",
        "\n",
        "    # 計算當日漲跌幅\n",
        "    daily_kbar['previous_close'] = daily_kbar['close'].shift(1)\n",
        "\n",
        "    # 計算今天的漲跌幅 (今天的 close - 昨天的 close) / 昨天的 close * 100\n",
        "    daily_kbar['change_percentage'] = ((daily_kbar['close'] - daily_kbar['previous_close']) / daily_kbar['previous_close'] * 100).round(2)\n",
        "\n",
        "    # 計算當日震幅\n",
        "    daily_kbar['amplitude'] = ((daily_kbar['high'] - daily_kbar['low']) / daily_kbar['high'] * 100).round(2)\n",
        "\n",
        "    # 移除前一天沒有數據的行\n",
        "    daily_kbar = daily_kbar.dropna(subset=['previous_close'])\n",
        "\n",
        "    print(daily_kbar)\n",
        "\n",
        "    # 將結果輸出到 Excel 檔案\n",
        "    # daily_kbar.to_excel(f'{stock_code}-daily_kbar.xlsx', index=True)  # `index=True` 會將日期作為列索引輸出\n",
        "\n",
        "    return daily_kbar\n"
      ],
      "metadata": {
        "id": "lpNJm_afJEl2"
      },
      "execution_count": null,
      "outputs": []
    },
    {
      "cell_type": "code",
      "source": [
        "\n",
        "start_day =\"2021-01-01\"\n",
        "end_day = \"2023-12-31\"\n",
        "\n",
        "# goodStockList2020=[4743,6443,6531,4128,3545 ,6547,2609 ,8046 ,3218 ,6492 ,2368 ,2603 ,4961 ,2303 ,2615 ,3661 ,5269 ,4142 ,6415, 3374]\n",
        "# for(stock_code)in goodStockList2020:\n",
        "#     stock_code = str(stock_code)\n",
        "#     get_daily_kbar(stock_code,start_day,end_day)\n",
        "\n",
        "# get_daily_kbar(f\"{stock_code}\",start_day,end_day)\n",
        "\n",
        "df_2609 = get_daily_kbar(\"1519\",start_day,end_day)"
      ],
      "metadata": {
        "colab": {
          "base_uri": "https://localhost:8080/",
          "height": 535
        },
        "id": "HXw0p4fmO8Y6",
        "outputId": "c9e2391d-92fe-4be2-a863-56e066288bbd"
      },
      "execution_count": null,
      "outputs": [
        {
          "output_type": "stream",
          "name": "stdout",
          "text": [
            "              open   close    high     low  volume  previous_close  \\\n",
            "datetime                                                             \n",
            "2021-01-05   48.95   48.75   49.40   48.70    1247           49.00   \n",
            "2021-01-06   48.70   46.85   48.95   46.55    3972           48.75   \n",
            "2021-01-07   46.95   47.80   49.45   46.95    3628           46.85   \n",
            "2021-01-08   48.25   48.50   48.50   46.80    2400           47.80   \n",
            "2021-01-11   48.70   48.30   49.30   48.15    2095           48.50   \n",
            "...            ...     ...     ...     ...     ...             ...   \n",
            "2023-12-25  326.00  333.50  341.00  326.00   12052          321.00   \n",
            "2023-12-26  338.50  315.00  340.50  314.00   15301          333.50   \n",
            "2023-12-27  316.50  316.50  323.50  316.50    8549          315.00   \n",
            "2023-12-28  325.00  348.00  348.00  325.00   18627          316.50   \n",
            "2023-12-29  358.00  327.00  360.50  317.00   34502          348.00   \n",
            "\n",
            "            change_percentage  amplitude  \n",
            "datetime                                  \n",
            "2021-01-05              -0.51       1.42  \n",
            "2021-01-06              -3.90       4.90  \n",
            "2021-01-07               2.03       5.06  \n",
            "2021-01-08               1.46       3.51  \n",
            "2021-01-11              -0.41       2.33  \n",
            "...                       ...        ...  \n",
            "2023-12-25               3.89       4.40  \n",
            "2023-12-26              -5.55       7.78  \n",
            "2023-12-27               0.48       2.16  \n",
            "2023-12-28               9.95       6.61  \n",
            "2023-12-29              -6.03      12.07  \n",
            "\n",
            "[728 rows x 8 columns]\n"
          ]
        }
      ]
    },
    {
      "cell_type": "code",
      "source": [
        "# sma cross strategy\n",
        "class DailyMAStrategy(bt.Strategy):\n",
        "  # 設定參數\n",
        "  params = (('maperiods',[5,10,20,60]),)\n",
        "\n",
        "  def __init__(self):\n",
        "    # 定義移動平均線（5MA, 10MA, 20MA, 60MA）\n",
        "    self.sma5 = bt.ind.SMA(self.data.close, period=self.params.maperiods[0])\n",
        "    self.sma10 = bt.ind.SMA(self.data.close, period=self.params.maperiods[1])\n",
        "    self.sma20 = bt.ind.SMA(self.data.close, period=self.params.maperiods[2])\n",
        "    self.sma60 = bt.ind.SMA(self.data.close, period=self.params.maperiods[3])\n",
        "\n",
        "\n",
        "  def next(self):\n",
        "    # 尾盤的時間點 (假設是當日最後一個時間點)\n",
        "    if len(self.data) < 2:  # 保證有足夠的前一日數據\n",
        "      return\n",
        "\n",
        "    # 買入條件\n",
        "    if not self.position:\n",
        "      if (self.data.close[0] > self.sma5[0] and\n",
        "          self.data.close[0] > self.sma10[0] and\n",
        "          self.data.close[0] > self.sma20[0] and\n",
        "          self.data.close[0] > self.sma60[0] and\n",
        "          self.data.volume[0] > 3* self.data.volume[-1]):\n",
        "\n",
        "          self.buy(size=3000)\n",
        "          print(f\"Buy at {self.data.close[0]} on {self.data.datetime.date(0)}\")\n",
        "\n",
        "    elif self.position:\n",
        "      if self.data.close[0] < self.sma60[0]:\n",
        "        print(f\"Sell at {self.data.close[0]} on {self.data.datetime.date(0)}\")\n",
        "        self.sell(size=3000)\n",
        "\n",
        "\n",
        "\n",
        "\n"
      ],
      "metadata": {
        "id": "CdQ4SoFl6kNn"
      },
      "execution_count": null,
      "outputs": []
    },
    {
      "cell_type": "code",
      "source": [
        "cerebro = bt.Cerebro()\n",
        "cerebro.addstrategy(DailyMAStrategy)\n",
        "cerebro.broker.setcash(10**6)\n",
        "data = bt.feeds.PandasData(dataname=df_2609)\n",
        "cerebro.adddata(data)\n",
        "\n",
        "# 券商的手續費\n",
        "cerebro.broker.setcommission(commission=0.1425/100)\n",
        "\n",
        "\n",
        "\n",
        "# 如果跑到最後，還有股票沒有賣出的話，會以當天收盤價的價格來加總\n",
        "print(\"初始資金: %.2f\" % cerebro.broker.getvalue())\n",
        "\n",
        "# 執行策略\n",
        "cerebro.run()\n",
        "\n",
        "print(\"結束資金：%.2f\" % cerebro.broker.getvalue())\n",
        "# # 可視化結果\n",
        "cerebro.plot()"
      ],
      "metadata": {
        "colab": {
          "base_uri": "https://localhost:8080/",
          "height": 374
        },
        "id": "rBEgfYrgYNmf",
        "outputId": "8ed82e92-8d59-46af-dd0d-8c2247217996"
      },
      "execution_count": null,
      "outputs": [
        {
          "output_type": "stream",
          "name": "stdout",
          "text": [
            "初始資金: 1000000.00\n",
            "Buy at 44.3 on 2021-07-13\n",
            "Sell at 43.85 on 2021-07-14\n",
            "Buy at 36.95 on 2021-12-15\n",
            "Sell at 36.15 on 2022-01-07\n",
            "Buy at 39.6 on 2022-01-11\n",
            "Sell at 36.45 on 2022-02-24\n",
            "Buy at 38.7 on 2022-03-03\n",
            "Sell at 37.0 on 2022-03-08\n",
            "Buy at 42.05 on 2022-03-14\n",
            "Sell at 38.9 on 2022-04-25\n",
            "Buy at 37.0 on 2022-07-14\n",
            "Sell at 39.0 on 2022-10-20\n",
            "Buy at 40.5 on 2022-11-21\n",
            "Sell at 39.95 on 2022-11-23\n",
            "Buy at 42.7 on 2022-12-02\n",
            "Sell at 251.0 on 2023-10-27\n",
            "Buy at 275.0 on 2023-11-24\n",
            "結束資金：1748341.27\n"
          ]
        },
        {
          "output_type": "execute_result",
          "data": {
            "text/plain": [
              "[[<Figure size 640x480 with 4 Axes>]]"
            ]
          },
          "metadata": {},
          "execution_count": 80
        }
      ]
    },
    {
      "cell_type": "code",
      "source": [
        "print(api.usage())"
      ],
      "metadata": {
        "id": "pX71myQhF_mg",
        "outputId": "fadb79e1-a85a-474f-ffe0-f3af6a784ef7",
        "colab": {
          "base_uri": "https://localhost:8080/"
        }
      },
      "execution_count": 41,
      "outputs": [
        {
          "output_type": "stream",
          "name": "stdout",
          "text": [
            "connections=3 bytes=358425150 limit_bytes=2147483648 remaining_bytes=1789058498\n"
          ]
        }
      ]
    }
  ]
}