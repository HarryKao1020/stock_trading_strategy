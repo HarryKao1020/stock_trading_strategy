{
  "nbformat": 4,
  "nbformat_minor": 0,
  "metadata": {
    "colab": {
      "provenance": [],
      "authorship_tag": "ABX9TyNDluwFsdodX3zVMPEQuWb2",
      "include_colab_link": true
    },
    "kernelspec": {
      "name": "python3",
      "display_name": "Python 3"
    },
    "language_info": {
      "name": "python"
    }
  },
  "cells": [
    {
      "cell_type": "markdown",
      "metadata": {
        "id": "view-in-github",
        "colab_type": "text"
      },
      "source": [
        "<a href=\"https://colab.research.google.com/github/HarryKao1020/stock_trading_strategy/blob/colab/punish_amount.ipynb\" target=\"_parent\"><img src=\"https://colab.research.google.com/assets/colab-badge.svg\" alt=\"Open In Colab\"/></a>"
      ]
    },
    {
      "cell_type": "code",
      "execution_count": 3,
      "metadata": {
        "colab": {
          "base_uri": "https://localhost:8080/"
        },
        "id": "jdpAfE4WJejz",
        "outputId": "aa007d8c-17d9-4a4e-83b3-826a49b47a59"
      },
      "outputs": [
        {
          "output_type": "stream",
          "name": "stdout",
          "text": [
            "otc punish length: 18\n",
            "twse punish length: 8\n",
            "otc warning length: 0\n",
            "twse warning length: 1\n"
          ]
        }
      ],
      "source": [
        "import numpy as np\n",
        "import pandas as pd\n",
        "import requests\n",
        "import datetime\n",
        "from datetime import date, timedelta\n",
        "\n",
        "otc_punish_api_url = \"https://www.tpex.org.tw/openapi/v1/tpex_disposal_information\"\n",
        "twse_punish_api_url = \"https://openapi.twse.com.tw/v1/announcement/punish\"\n",
        "otc_warning_api_url = \"https://www.tpex.org.tw/openapi/v1/tpex_trading_warning_information\"\n",
        "twse_warning_api_url = \"https://openapi.twse.com.tw/v1/announcement/notice\"\n",
        "\n",
        "otc_punish_response = requests.get(otc_punish_api_url).json()\n",
        "twse_punish_response = requests.get(twse_punish_api_url).json()\n",
        "otc_warning_response = requests.get(otc_warning_api_url).json()\n",
        "twse_warning_response = requests.get(twse_warning_api_url).json()\n",
        "\n",
        "print(\"otc punish length:\",len(otc_punish_response))\n",
        "print(\"twse punish length:\",len(twse_punish_response))\n",
        "print(\"otc warning length:\",len(otc_warning_response))\n",
        "print(\"twse warning length:\",len(twse_warning_response))\n",
        "\n",
        "\n",
        "\n"
      ]
    }
  ]
}