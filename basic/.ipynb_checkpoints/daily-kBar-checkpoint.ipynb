{
 "cells": [
  {
   "cell_type": "code",
   "execution_count": 1,
   "id": "a34f5cab",
   "metadata": {},
   "outputs": [
    {
     "name": "stdout",
     "output_type": "stream",
     "text": [
      "Requirement already satisfied: shioaji in /opt/homebrew/anaconda3/lib/python3.11/site-packages (1.2.3)\n",
      "Requirement already satisfied: base58 in /opt/homebrew/anaconda3/lib/python3.11/site-packages (from shioaji) (2.1.1)\n",
      "Requirement already satisfied: importlib-metadata in /opt/homebrew/anaconda3/lib/python3.11/site-packages (from shioaji) (6.0.0)\n",
      "Requirement already satisfied: pydantic in /opt/homebrew/anaconda3/lib/python3.11/site-packages (from shioaji) (2.6.4)\n",
      "Requirement already satisfied: pynacl>=1.3.0 in /opt/homebrew/anaconda3/lib/python3.11/site-packages (from shioaji) (1.5.0)\n",
      "Requirement already satisfied: pyrsca in /opt/homebrew/anaconda3/lib/python3.11/site-packages (from shioaji) (0.1.1)\n",
      "Requirement already satisfied: pysolace==0.9.40 in /opt/homebrew/anaconda3/lib/python3.11/site-packages (from shioaji) (0.9.40)\n",
      "Requirement already satisfied: requests in /opt/homebrew/anaconda3/lib/python3.11/site-packages (from shioaji) (2.31.0)\n",
      "Requirement already satisfied: sentry-sdk==1.5.12 in /opt/homebrew/anaconda3/lib/python3.11/site-packages (from shioaji) (1.5.12)\n",
      "Requirement already satisfied: typing-extensions in /opt/homebrew/anaconda3/lib/python3.11/site-packages (from shioaji) (4.7.1)\n",
      "Requirement already satisfied: xxhash in /opt/homebrew/anaconda3/lib/python3.11/site-packages (from shioaji) (2.0.2)\n",
      "Requirement already satisfied: loguru==0.6.0 in /opt/homebrew/anaconda3/lib/python3.11/site-packages (from shioaji) (0.6.0)\n",
      "Requirement already satisfied: filelock==3.4.1 in /opt/homebrew/anaconda3/lib/python3.11/site-packages (from shioaji) (3.4.1)\n",
      "Requirement already satisfied: orjson in /opt/homebrew/anaconda3/lib/python3.11/site-packages (from pysolace==0.9.40->shioaji) (3.9.15)\n",
      "Requirement already satisfied: msgpack in /opt/homebrew/anaconda3/lib/python3.11/site-packages (from pysolace==0.9.40->shioaji) (1.0.3)\n",
      "Requirement already satisfied: urllib3>=1.10.0 in /opt/homebrew/anaconda3/lib/python3.11/site-packages (from sentry-sdk==1.5.12->shioaji) (1.26.16)\n",
      "Requirement already satisfied: certifi in /opt/homebrew/anaconda3/lib/python3.11/site-packages (from sentry-sdk==1.5.12->shioaji) (2023.7.22)\n",
      "Requirement already satisfied: cffi>=1.4.1 in /opt/homebrew/anaconda3/lib/python3.11/site-packages (from pynacl>=1.3.0->shioaji) (1.15.1)\n",
      "Requirement already satisfied: zipp>=0.5 in /opt/homebrew/anaconda3/lib/python3.11/site-packages (from importlib-metadata->shioaji) (3.11.0)\n",
      "Requirement already satisfied: annotated-types>=0.4.0 in /opt/homebrew/anaconda3/lib/python3.11/site-packages (from pydantic->shioaji) (0.6.0)\n",
      "Requirement already satisfied: pydantic-core==2.16.3 in /opt/homebrew/anaconda3/lib/python3.11/site-packages (from pydantic->shioaji) (2.16.3)\n",
      "Requirement already satisfied: charset-normalizer<4,>=2 in /opt/homebrew/anaconda3/lib/python3.11/site-packages (from requests->shioaji) (2.0.4)\n",
      "Requirement already satisfied: idna<4,>=2.5 in /opt/homebrew/anaconda3/lib/python3.11/site-packages (from requests->shioaji) (3.4)\n",
      "Requirement already satisfied: pycparser in /opt/homebrew/anaconda3/lib/python3.11/site-packages (from cffi>=1.4.1->pynacl>=1.3.0->shioaji) (2.21)\n"
     ]
    },
    {
     "name": "stderr",
     "output_type": "stream",
     "text": [
      "2024-04-07 12:34:42.282 | WARNING  | importlib._bootstrap:_call_with_frames_removed:241 - Optional: pip install shioaji[speed] for better performance.\n"
     ]
    }
   ],
   "source": [
    "!pip install shioaji\n",
    "import numpy as np\n",
    "import pandas as pd\n",
    "import requests\n",
    "import shioaji as sj\n",
    "import matplotlib.pyplot as plt\n",
    "\n",
    "\n"
   ]
  },
  {
   "cell_type": "code",
   "execution_count": 2,
   "id": "f7f0c568",
   "metadata": {},
   "outputs": [
    {
     "name": "stdout",
     "output_type": "stream",
     "text": [
      "Response Code: 0 | Event Code: 0 | Info: host '203.66.91.161:80', hostname '203.66.91.161:80' IP 203.66.91.161:80 (host 1 of 1) (host connection attempt 1 of 1) (total connection attempt 1 of 1) | Event: Session up\n",
      "[FutureAccount(person_id='F129970274', broker_id='F002000', account_id='1809633', username='高誠鴻'), Account(account_type=<AccountType.H: 'H'>, person_id='F129970274', broker_id='9A95', account_id='01832712', username='高誠鴻'), StockAccount(person_id='F129970274', broker_id='9A95', account_id='2292673', signed=True, username='高誠鴻')]\n"
     ]
    }
   ],
   "source": [
    "# 建立API物件，simulation=True是代表測試帳號\n",
    "api = sj.Shioaji(simulation=True)\n",
    "#登入你的key\n",
    "accounts = api.login(\"DP6ayTE7r7zsyWfad4wfu5ZMDdQ4NA6wk1vPESXVihyG\",\"65bqwy975DsaDHamDxje8M3yUyqKCEuNRA9szAkrt996\")\n",
    "\n",
    "\n",
    "\n",
    "accounts = api.list_accounts()\n",
    "print(accounts)\n",
    "#要下單的話要匯入憑證\n",
    "# api.activate_ca(\n",
    "#     ca_path=\"/c/your/ca/path/Sinopac.pfx\",\n",
    "#     ca_passwd=\"YOUR_CA_PASSWORD\",\n",
    "#     person_id=\"Person of this Ca\",\n",
    "# )"
   ]
  },
  {
   "cell_type": "code",
   "execution_count": 4,
   "id": "52578990",
   "metadata": {},
   "outputs": [
    {
     "name": "stdout",
     "output_type": "stream",
     "text": [
      "Indexs=(OTC, TAIFEX, TSE) Stocks=(OES, OTC, TSE) Futures=(BRF, BTF, CAF, CBF, CCF, CDF, CEF, CFF, CGF, CHF, CJF, CKF, CLF, CMF, CNF, CQF, CRF, CSF, CUF, CWF, CXF, CYF, CZF, DAF, DBF, DCF, DDF, DEF, DFF, DGF, DHF, DIF, DJF, DKF, DLF, DNF, DO1, DOF, DPF, DQF, DSF, DVF, DWF, DXF, DYF, DZF, E4F, EEF, EGF, EHF, EKF, EMF, EPF, EXF, EYF, EZF, F1F, FBF, FCF, FE1, FEF, FFF, FGF, FKF, FNF, FQF, FRF, FSF, FTF, FVF, FWF, FXF, FYF, FZ1, FZF, G2F, GAF, GCF, GDF, GHF, GIF, GJF, GLF, GMF, GNF, GOF, GRF, GTF, GUF, GVF, GWF, GXF, GYF, GZF, HAF, HBF, HCF, HHF, HIF, HLF, HOF, HQF, HSF, IA1, IAF, IHF, IIF, IJF, IMF, IOF, IP1, IPF, IQF, IRF, ITF, IXF, IYF, IZF, JBF, JFF, JMF, JNF, JPF, JSF, JWF, JZ1, JZF, KAF, KBF, KCF, KDF, KEF, KFF, KG1, KGF, KIF, KKF, KLF, KOF, KPF, KSF, KUF, KWF, LBF, LCF, LEF, LIF, LMF, LOF, LQF, LRF, LTF, LUF, LVF, LWF, LXF, LYF, MAF, MBF, MJF, MKF, MQF, MVF, MX1, MX4, MXF, MYF, NAF, NBF, NDF, NEF, NGF, NIF, NJF, NLF, NMF, NOF, NQF, NSF, NUF, NVF, NWF, NYF, OAF, OBF, ODF, OEF, OHF, OJF, OKF, OLF, OMF, OOF, OPF, OQF, ORF, OSF, OTF, OUF, OVF, OWF, OXF, OYF, OZF, PAF, PBF, PCF, PDF, PEF, PFF, PGF, PHF, PIF, PJF, PKF, PLF, PMF, PNF, PPF, PQF, PRF, PSF, PTF, PUF, PVF, PWF, PXF, PYF, PZF, QAF, QBF, QCF, QDF, QEF, QFF, QGF, QHF, QIF, QJF, QKF, QLF, QMF, QNF, QOF, QPF, QQF, QRF, QSF, QTF, QUF, QVF, QWF, QXF, QYF, QZF, RAF, RBF, RCF, RDF, REF, RFF, RGF, RHF, RIF, RJF, RKF, RLF, RMF, RNF, RO1, ROF, RPF, RQF, RRF, RSF, RTF, RUF, RVF, RWF, RXF, RYF, RZF, SAF, SBF, SCF, SDF, SEF, SFF, SGF, SHF, SIF, SOF, SPF, SXF, TGF, TJF, TXF, UDF, UNF, XAF, XBF, XEF, XIF, XJF, ZEF, ZFF) Options=(CAO, CBO, CCO, CDA, CDO, CEO, CFO, CGO, CHO, CJO, CKO, CLO, CMO, CNO, CQO, CRO, CSO, CZO, DCO, DDO, DEO, DFO, DGO, DHO, DJO, DKO, DLO, DNO, DOO, DPO, DQO, DSO, DVO, DXO, GIO, GXO, HCO, HSO, IJO, IRO, LOO, NYO, OAO, OBO, OJO, OKO, OOO, OZO, QBO, TEO, TFO, TGO, TX1, TX4, TXO) status=<FetchStatus.Fetched: 'Fetched'>\n"
     ]
    }
   ],
   "source": [
    "print(api.Contracts)"
   ]
  },
  {
   "cell_type": "code",
   "execution_count": 5,
   "id": "5872d45d",
   "metadata": {},
   "outputs": [
    {
     "name": "stdout",
     "output_type": "stream",
     "text": [
      "exchange=<Exchange.TSE: 'TSE'> code='2890' symbol='TSE2890' name='永豐金' category='17' unit=1000 limit_up=23.25 limit_down=19.05 reference=21.15 update_date='2024/03/22' day_trade=<DayTrade.Yes: 'Yes'>\n"
     ]
    }
   ],
   "source": [
    "contract_2890 = api.Contracts.Stocks['2890']\n",
    "print(contract_2890)"
   ]
  },
  {
   "cell_type": "code",
   "execution_count": 3,
   "id": "6b852195",
   "metadata": {},
   "outputs": [
    {
     "data": {
      "text/html": [
       "<div>\n",
       "<style scoped>\n",
       "    .dataframe tbody tr th:only-of-type {\n",
       "        vertical-align: middle;\n",
       "    }\n",
       "\n",
       "    .dataframe tbody tr th {\n",
       "        vertical-align: top;\n",
       "    }\n",
       "\n",
       "    .dataframe thead th {\n",
       "        text-align: right;\n",
       "    }\n",
       "</style>\n",
       "<table border=\"1\" class=\"dataframe\">\n",
       "  <thead>\n",
       "    <tr style=\"text-align: right;\">\n",
       "      <th></th>\n",
       "      <th>Open</th>\n",
       "      <th>High</th>\n",
       "      <th>Low</th>\n",
       "      <th>Close</th>\n",
       "      <th>Volume</th>\n",
       "      <th>Amount</th>\n",
       "    </tr>\n",
       "    <tr>\n",
       "      <th>ts</th>\n",
       "      <th></th>\n",
       "      <th></th>\n",
       "      <th></th>\n",
       "      <th></th>\n",
       "      <th></th>\n",
       "      <th></th>\n",
       "    </tr>\n",
       "  </thead>\n",
       "  <tbody>\n",
       "    <tr>\n",
       "      <th>2024-01-02</th>\n",
       "      <td>84.0</td>\n",
       "      <td>84.0</td>\n",
       "      <td>84.0</td>\n",
       "      <td>84.0</td>\n",
       "      <td>1174.0</td>\n",
       "      <td>98616000.0</td>\n",
       "    </tr>\n",
       "    <tr>\n",
       "      <th>2024-01-03</th>\n",
       "      <td>83.5</td>\n",
       "      <td>83.5</td>\n",
       "      <td>83.5</td>\n",
       "      <td>83.5</td>\n",
       "      <td>1027.0</td>\n",
       "      <td>85754500.0</td>\n",
       "    </tr>\n",
       "    <tr>\n",
       "      <th>2024-01-04</th>\n",
       "      <td>83.1</td>\n",
       "      <td>83.1</td>\n",
       "      <td>83.1</td>\n",
       "      <td>83.1</td>\n",
       "      <td>1449.0</td>\n",
       "      <td>120411900.0</td>\n",
       "    </tr>\n",
       "    <tr>\n",
       "      <th>2024-01-05</th>\n",
       "      <td>82.9</td>\n",
       "      <td>82.9</td>\n",
       "      <td>82.9</td>\n",
       "      <td>82.9</td>\n",
       "      <td>910.0</td>\n",
       "      <td>75439000.0</td>\n",
       "    </tr>\n",
       "    <tr>\n",
       "      <th>2024-01-08</th>\n",
       "      <td>81.6</td>\n",
       "      <td>81.6</td>\n",
       "      <td>81.6</td>\n",
       "      <td>81.6</td>\n",
       "      <td>1032.0</td>\n",
       "      <td>84211200.0</td>\n",
       "    </tr>\n",
       "    <tr>\n",
       "      <th>2024-01-09</th>\n",
       "      <td>82.1</td>\n",
       "      <td>82.1</td>\n",
       "      <td>82.1</td>\n",
       "      <td>82.1</td>\n",
       "      <td>672.0</td>\n",
       "      <td>55171200.0</td>\n",
       "    </tr>\n",
       "    <tr>\n",
       "      <th>2024-01-10</th>\n",
       "      <td>81.8</td>\n",
       "      <td>81.8</td>\n",
       "      <td>81.8</td>\n",
       "      <td>81.8</td>\n",
       "      <td>462.0</td>\n",
       "      <td>37791600.0</td>\n",
       "    </tr>\n",
       "    <tr>\n",
       "      <th>2024-01-11</th>\n",
       "      <td>78.0</td>\n",
       "      <td>78.0</td>\n",
       "      <td>78.0</td>\n",
       "      <td>78.0</td>\n",
       "      <td>2223.0</td>\n",
       "      <td>173394000.0</td>\n",
       "    </tr>\n",
       "    <tr>\n",
       "      <th>2024-01-12</th>\n",
       "      <td>75.6</td>\n",
       "      <td>75.6</td>\n",
       "      <td>75.6</td>\n",
       "      <td>75.6</td>\n",
       "      <td>1939.0</td>\n",
       "      <td>146588400.0</td>\n",
       "    </tr>\n",
       "    <tr>\n",
       "      <th>2024-01-15</th>\n",
       "      <td>77.7</td>\n",
       "      <td>77.7</td>\n",
       "      <td>77.7</td>\n",
       "      <td>77.7</td>\n",
       "      <td>1256.0</td>\n",
       "      <td>97591200.0</td>\n",
       "    </tr>\n",
       "    <tr>\n",
       "      <th>2024-01-16</th>\n",
       "      <td>78.6</td>\n",
       "      <td>78.6</td>\n",
       "      <td>78.6</td>\n",
       "      <td>78.6</td>\n",
       "      <td>1053.0</td>\n",
       "      <td>82765800.0</td>\n",
       "    </tr>\n",
       "    <tr>\n",
       "      <th>2024-01-17</th>\n",
       "      <td>77.2</td>\n",
       "      <td>77.2</td>\n",
       "      <td>77.2</td>\n",
       "      <td>77.2</td>\n",
       "      <td>1365.0</td>\n",
       "      <td>105378000.0</td>\n",
       "    </tr>\n",
       "    <tr>\n",
       "      <th>2024-01-18</th>\n",
       "      <td>79.7</td>\n",
       "      <td>79.7</td>\n",
       "      <td>79.7</td>\n",
       "      <td>79.7</td>\n",
       "      <td>1414.0</td>\n",
       "      <td>112695800.0</td>\n",
       "    </tr>\n",
       "    <tr>\n",
       "      <th>2024-01-19</th>\n",
       "      <td>81.3</td>\n",
       "      <td>81.3</td>\n",
       "      <td>81.3</td>\n",
       "      <td>81.3</td>\n",
       "      <td>1207.0</td>\n",
       "      <td>98129100.0</td>\n",
       "    </tr>\n",
       "    <tr>\n",
       "      <th>2024-01-22</th>\n",
       "      <td>84.1</td>\n",
       "      <td>84.1</td>\n",
       "      <td>84.1</td>\n",
       "      <td>84.1</td>\n",
       "      <td>1093.0</td>\n",
       "      <td>91921300.0</td>\n",
       "    </tr>\n",
       "    <tr>\n",
       "      <th>2024-01-23</th>\n",
       "      <td>82.1</td>\n",
       "      <td>82.1</td>\n",
       "      <td>82.1</td>\n",
       "      <td>82.1</td>\n",
       "      <td>1149.0</td>\n",
       "      <td>94332900.0</td>\n",
       "    </tr>\n",
       "    <tr>\n",
       "      <th>2024-01-24</th>\n",
       "      <td>82.1</td>\n",
       "      <td>82.1</td>\n",
       "      <td>82.1</td>\n",
       "      <td>82.1</td>\n",
       "      <td>732.0</td>\n",
       "      <td>60097200.0</td>\n",
       "    </tr>\n",
       "    <tr>\n",
       "      <th>2024-01-25</th>\n",
       "      <td>82.2</td>\n",
       "      <td>82.2</td>\n",
       "      <td>82.2</td>\n",
       "      <td>82.2</td>\n",
       "      <td>1638.0</td>\n",
       "      <td>134643600.0</td>\n",
       "    </tr>\n",
       "    <tr>\n",
       "      <th>2024-01-26</th>\n",
       "      <td>82.9</td>\n",
       "      <td>82.9</td>\n",
       "      <td>82.9</td>\n",
       "      <td>82.9</td>\n",
       "      <td>867.0</td>\n",
       "      <td>71874300.0</td>\n",
       "    </tr>\n",
       "    <tr>\n",
       "      <th>2024-01-29</th>\n",
       "      <td>83.8</td>\n",
       "      <td>83.8</td>\n",
       "      <td>83.8</td>\n",
       "      <td>83.8</td>\n",
       "      <td>1308.0</td>\n",
       "      <td>109610400.0</td>\n",
       "    </tr>\n",
       "    <tr>\n",
       "      <th>2024-01-30</th>\n",
       "      <td>84.0</td>\n",
       "      <td>84.0</td>\n",
       "      <td>84.0</td>\n",
       "      <td>84.0</td>\n",
       "      <td>717.0</td>\n",
       "      <td>60228000.0</td>\n",
       "    </tr>\n",
       "    <tr>\n",
       "      <th>2024-01-31</th>\n",
       "      <td>84.0</td>\n",
       "      <td>84.0</td>\n",
       "      <td>84.0</td>\n",
       "      <td>84.0</td>\n",
       "      <td>1070.0</td>\n",
       "      <td>89880000.0</td>\n",
       "    </tr>\n",
       "    <tr>\n",
       "      <th>2024-02-01</th>\n",
       "      <td>82.7</td>\n",
       "      <td>82.7</td>\n",
       "      <td>82.7</td>\n",
       "      <td>82.7</td>\n",
       "      <td>619.0</td>\n",
       "      <td>51191300.0</td>\n",
       "    </tr>\n",
       "    <tr>\n",
       "      <th>2024-02-02</th>\n",
       "      <td>82.2</td>\n",
       "      <td>82.2</td>\n",
       "      <td>82.2</td>\n",
       "      <td>82.2</td>\n",
       "      <td>485.0</td>\n",
       "      <td>39867000.0</td>\n",
       "    </tr>\n",
       "    <tr>\n",
       "      <th>2024-02-05</th>\n",
       "      <td>82.2</td>\n",
       "      <td>82.2</td>\n",
       "      <td>82.2</td>\n",
       "      <td>82.2</td>\n",
       "      <td>719.0</td>\n",
       "      <td>59101800.0</td>\n",
       "    </tr>\n",
       "    <tr>\n",
       "      <th>2024-02-15</th>\n",
       "      <td>85.4</td>\n",
       "      <td>85.4</td>\n",
       "      <td>85.4</td>\n",
       "      <td>85.4</td>\n",
       "      <td>1443.0</td>\n",
       "      <td>123232200.0</td>\n",
       "    </tr>\n",
       "    <tr>\n",
       "      <th>2024-02-16</th>\n",
       "      <td>90.0</td>\n",
       "      <td>90.0</td>\n",
       "      <td>90.0</td>\n",
       "      <td>90.0</td>\n",
       "      <td>1438.0</td>\n",
       "      <td>129420000.0</td>\n",
       "    </tr>\n",
       "    <tr>\n",
       "      <th>2024-02-19</th>\n",
       "      <td>87.7</td>\n",
       "      <td>87.7</td>\n",
       "      <td>87.7</td>\n",
       "      <td>87.7</td>\n",
       "      <td>819.0</td>\n",
       "      <td>71826300.0</td>\n",
       "    </tr>\n",
       "    <tr>\n",
       "      <th>2024-02-20</th>\n",
       "      <td>87.5</td>\n",
       "      <td>87.5</td>\n",
       "      <td>87.5</td>\n",
       "      <td>87.5</td>\n",
       "      <td>721.0</td>\n",
       "      <td>63087500.0</td>\n",
       "    </tr>\n",
       "    <tr>\n",
       "      <th>2024-02-21</th>\n",
       "      <td>87.5</td>\n",
       "      <td>87.5</td>\n",
       "      <td>87.5</td>\n",
       "      <td>87.5</td>\n",
       "      <td>533.0</td>\n",
       "      <td>46637500.0</td>\n",
       "    </tr>\n",
       "    <tr>\n",
       "      <th>2024-02-22</th>\n",
       "      <td>93.5</td>\n",
       "      <td>93.5</td>\n",
       "      <td>93.5</td>\n",
       "      <td>93.5</td>\n",
       "      <td>2457.0</td>\n",
       "      <td>229729500.0</td>\n",
       "    </tr>\n",
       "    <tr>\n",
       "      <th>2024-02-23</th>\n",
       "      <td>94.8</td>\n",
       "      <td>94.8</td>\n",
       "      <td>94.8</td>\n",
       "      <td>94.8</td>\n",
       "      <td>2261.0</td>\n",
       "      <td>214342800.0</td>\n",
       "    </tr>\n",
       "    <tr>\n",
       "      <th>2024-02-26</th>\n",
       "      <td>89.5</td>\n",
       "      <td>89.5</td>\n",
       "      <td>89.5</td>\n",
       "      <td>89.5</td>\n",
       "      <td>1937.0</td>\n",
       "      <td>173361500.0</td>\n",
       "    </tr>\n",
       "    <tr>\n",
       "      <th>2024-02-27</th>\n",
       "      <td>89.5</td>\n",
       "      <td>89.5</td>\n",
       "      <td>89.5</td>\n",
       "      <td>89.5</td>\n",
       "      <td>826.0</td>\n",
       "      <td>73927000.0</td>\n",
       "    </tr>\n",
       "    <tr>\n",
       "      <th>2024-02-29</th>\n",
       "      <td>88.8</td>\n",
       "      <td>88.8</td>\n",
       "      <td>88.8</td>\n",
       "      <td>88.8</td>\n",
       "      <td>4483.0</td>\n",
       "      <td>398090400.0</td>\n",
       "    </tr>\n",
       "    <tr>\n",
       "      <th>2024-03-01</th>\n",
       "      <td>89.5</td>\n",
       "      <td>89.5</td>\n",
       "      <td>89.5</td>\n",
       "      <td>89.5</td>\n",
       "      <td>1359.0</td>\n",
       "      <td>121630500.0</td>\n",
       "    </tr>\n",
       "    <tr>\n",
       "      <th>2024-03-04</th>\n",
       "      <td>96.0</td>\n",
       "      <td>96.0</td>\n",
       "      <td>96.0</td>\n",
       "      <td>96.0</td>\n",
       "      <td>1995.0</td>\n",
       "      <td>191520000.0</td>\n",
       "    </tr>\n",
       "    <tr>\n",
       "      <th>2024-03-05</th>\n",
       "      <td>97.4</td>\n",
       "      <td>97.4</td>\n",
       "      <td>97.4</td>\n",
       "      <td>97.4</td>\n",
       "      <td>1678.0</td>\n",
       "      <td>163437200.0</td>\n",
       "    </tr>\n",
       "    <tr>\n",
       "      <th>2024-03-06</th>\n",
       "      <td>106.0</td>\n",
       "      <td>106.0</td>\n",
       "      <td>106.0</td>\n",
       "      <td>106.0</td>\n",
       "      <td>1854.0</td>\n",
       "      <td>196524000.0</td>\n",
       "    </tr>\n",
       "    <tr>\n",
       "      <th>2024-03-07</th>\n",
       "      <td>116.5</td>\n",
       "      <td>116.5</td>\n",
       "      <td>116.5</td>\n",
       "      <td>116.5</td>\n",
       "      <td>548.0</td>\n",
       "      <td>63842000.0</td>\n",
       "    </tr>\n",
       "    <tr>\n",
       "      <th>2024-03-08</th>\n",
       "      <td>111.0</td>\n",
       "      <td>111.0</td>\n",
       "      <td>111.0</td>\n",
       "      <td>111.0</td>\n",
       "      <td>3254.0</td>\n",
       "      <td>361194000.0</td>\n",
       "    </tr>\n",
       "    <tr>\n",
       "      <th>2024-03-11</th>\n",
       "      <td>108.0</td>\n",
       "      <td>108.0</td>\n",
       "      <td>108.0</td>\n",
       "      <td>108.0</td>\n",
       "      <td>1146.0</td>\n",
       "      <td>123768000.0</td>\n",
       "    </tr>\n",
       "    <tr>\n",
       "      <th>2024-03-12</th>\n",
       "      <td>109.5</td>\n",
       "      <td>109.5</td>\n",
       "      <td>109.5</td>\n",
       "      <td>109.5</td>\n",
       "      <td>1162.0</td>\n",
       "      <td>127239000.0</td>\n",
       "    </tr>\n",
       "    <tr>\n",
       "      <th>2024-03-13</th>\n",
       "      <td>108.5</td>\n",
       "      <td>108.5</td>\n",
       "      <td>108.5</td>\n",
       "      <td>108.5</td>\n",
       "      <td>1962.0</td>\n",
       "      <td>212877000.0</td>\n",
       "    </tr>\n",
       "    <tr>\n",
       "      <th>2024-03-14</th>\n",
       "      <td>104.5</td>\n",
       "      <td>104.5</td>\n",
       "      <td>104.5</td>\n",
       "      <td>104.5</td>\n",
       "      <td>1245.0</td>\n",
       "      <td>130102500.0</td>\n",
       "    </tr>\n",
       "    <tr>\n",
       "      <th>2024-03-15</th>\n",
       "      <td>107.5</td>\n",
       "      <td>107.5</td>\n",
       "      <td>107.5</td>\n",
       "      <td>107.5</td>\n",
       "      <td>2704.0</td>\n",
       "      <td>290680000.0</td>\n",
       "    </tr>\n",
       "    <tr>\n",
       "      <th>2024-03-18</th>\n",
       "      <td>111.0</td>\n",
       "      <td>111.0</td>\n",
       "      <td>111.0</td>\n",
       "      <td>111.0</td>\n",
       "      <td>3051.0</td>\n",
       "      <td>338661000.0</td>\n",
       "    </tr>\n",
       "    <tr>\n",
       "      <th>2024-03-19</th>\n",
       "      <td>109.0</td>\n",
       "      <td>109.0</td>\n",
       "      <td>109.0</td>\n",
       "      <td>109.0</td>\n",
       "      <td>2532.0</td>\n",
       "      <td>275988000.0</td>\n",
       "    </tr>\n",
       "    <tr>\n",
       "      <th>2024-03-20</th>\n",
       "      <td>107.5</td>\n",
       "      <td>107.5</td>\n",
       "      <td>107.5</td>\n",
       "      <td>107.5</td>\n",
       "      <td>2818.0</td>\n",
       "      <td>302935000.0</td>\n",
       "    </tr>\n",
       "    <tr>\n",
       "      <th>2024-03-21</th>\n",
       "      <td>108.5</td>\n",
       "      <td>108.5</td>\n",
       "      <td>108.5</td>\n",
       "      <td>108.5</td>\n",
       "      <td>2018.0</td>\n",
       "      <td>218953000.0</td>\n",
       "    </tr>\n",
       "  </tbody>\n",
       "</table>\n",
       "</div>"
      ],
      "text/plain": [
       "             Open   High    Low  Close  Volume       Amount\n",
       "ts                                                         \n",
       "2024-01-02   84.0   84.0   84.0   84.0  1174.0   98616000.0\n",
       "2024-01-03   83.5   83.5   83.5   83.5  1027.0   85754500.0\n",
       "2024-01-04   83.1   83.1   83.1   83.1  1449.0  120411900.0\n",
       "2024-01-05   82.9   82.9   82.9   82.9   910.0   75439000.0\n",
       "2024-01-08   81.6   81.6   81.6   81.6  1032.0   84211200.0\n",
       "2024-01-09   82.1   82.1   82.1   82.1   672.0   55171200.0\n",
       "2024-01-10   81.8   81.8   81.8   81.8   462.0   37791600.0\n",
       "2024-01-11   78.0   78.0   78.0   78.0  2223.0  173394000.0\n",
       "2024-01-12   75.6   75.6   75.6   75.6  1939.0  146588400.0\n",
       "2024-01-15   77.7   77.7   77.7   77.7  1256.0   97591200.0\n",
       "2024-01-16   78.6   78.6   78.6   78.6  1053.0   82765800.0\n",
       "2024-01-17   77.2   77.2   77.2   77.2  1365.0  105378000.0\n",
       "2024-01-18   79.7   79.7   79.7   79.7  1414.0  112695800.0\n",
       "2024-01-19   81.3   81.3   81.3   81.3  1207.0   98129100.0\n",
       "2024-01-22   84.1   84.1   84.1   84.1  1093.0   91921300.0\n",
       "2024-01-23   82.1   82.1   82.1   82.1  1149.0   94332900.0\n",
       "2024-01-24   82.1   82.1   82.1   82.1   732.0   60097200.0\n",
       "2024-01-25   82.2   82.2   82.2   82.2  1638.0  134643600.0\n",
       "2024-01-26   82.9   82.9   82.9   82.9   867.0   71874300.0\n",
       "2024-01-29   83.8   83.8   83.8   83.8  1308.0  109610400.0\n",
       "2024-01-30   84.0   84.0   84.0   84.0   717.0   60228000.0\n",
       "2024-01-31   84.0   84.0   84.0   84.0  1070.0   89880000.0\n",
       "2024-02-01   82.7   82.7   82.7   82.7   619.0   51191300.0\n",
       "2024-02-02   82.2   82.2   82.2   82.2   485.0   39867000.0\n",
       "2024-02-05   82.2   82.2   82.2   82.2   719.0   59101800.0\n",
       "2024-02-15   85.4   85.4   85.4   85.4  1443.0  123232200.0\n",
       "2024-02-16   90.0   90.0   90.0   90.0  1438.0  129420000.0\n",
       "2024-02-19   87.7   87.7   87.7   87.7   819.0   71826300.0\n",
       "2024-02-20   87.5   87.5   87.5   87.5   721.0   63087500.0\n",
       "2024-02-21   87.5   87.5   87.5   87.5   533.0   46637500.0\n",
       "2024-02-22   93.5   93.5   93.5   93.5  2457.0  229729500.0\n",
       "2024-02-23   94.8   94.8   94.8   94.8  2261.0  214342800.0\n",
       "2024-02-26   89.5   89.5   89.5   89.5  1937.0  173361500.0\n",
       "2024-02-27   89.5   89.5   89.5   89.5   826.0   73927000.0\n",
       "2024-02-29   88.8   88.8   88.8   88.8  4483.0  398090400.0\n",
       "2024-03-01   89.5   89.5   89.5   89.5  1359.0  121630500.0\n",
       "2024-03-04   96.0   96.0   96.0   96.0  1995.0  191520000.0\n",
       "2024-03-05   97.4   97.4   97.4   97.4  1678.0  163437200.0\n",
       "2024-03-06  106.0  106.0  106.0  106.0  1854.0  196524000.0\n",
       "2024-03-07  116.5  116.5  116.5  116.5   548.0   63842000.0\n",
       "2024-03-08  111.0  111.0  111.0  111.0  3254.0  361194000.0\n",
       "2024-03-11  108.0  108.0  108.0  108.0  1146.0  123768000.0\n",
       "2024-03-12  109.5  109.5  109.5  109.5  1162.0  127239000.0\n",
       "2024-03-13  108.5  108.5  108.5  108.5  1962.0  212877000.0\n",
       "2024-03-14  104.5  104.5  104.5  104.5  1245.0  130102500.0\n",
       "2024-03-15  107.5  107.5  107.5  107.5  2704.0  290680000.0\n",
       "2024-03-18  111.0  111.0  111.0  111.0  3051.0  338661000.0\n",
       "2024-03-19  109.0  109.0  109.0  109.0  2532.0  275988000.0\n",
       "2024-03-20  107.5  107.5  107.5  107.5  2818.0  302935000.0\n",
       "2024-03-21  108.5  108.5  108.5  108.5  2018.0  218953000.0"
      ]
     },
     "execution_count": 3,
     "metadata": {},
     "output_type": "execute_result"
    },
    {
     "name": "stderr",
     "output_type": "stream",
     "text": [
      "SDK NOTICE Sun Apr 07 13:02:07.664 2024 solClient.c:11120                    (1770b7000) Session '(c0,s1)_sinopac' keep-alive on tcp_TxRx detected session down, client name 'PYAPI/F129970274/0407/043506/574553/118.150.47.40', VPN name 'sinopac', peer host '203.66.91.161:80' address 'IP 203.66.91.161', connection 'tcp_TxRx' local address 'IP 192.168.100.9:50129'\n"
     ]
    },
    {
     "name": "stdout",
     "output_type": "stream",
     "text": [
      "Response Code: 0 | Event Code: 12 | Info: Session '(c0,s1)_sinopac' keep-alive on tcp_TxRx detected session down, client name 'PYAPI/F129970274/0407/043506/574553/118.150.47.40', VPN name 'sinopac', peer host '203.66.91.161:80' address 'IP 203.66.91.161', connection 'tcp_TxRx' local address 'IP 1 | Event: Session reconnecting\n",
      "Response Code: 0 | Event Code: 13 | Info: host '203.66.91.161:80', hostname '203.66.91.161:80' IP 203.66.91.161:80 (host 1 of 1) (host connection attempt 1 of 1) (total reconnection attempt 1 of 10) | Event: Session reconnected\n"
     ]
    },
    {
     "name": "stderr",
     "output_type": "stream",
     "text": [
      "SDK NOTICE Sun Apr 07 14:03:32.195 2024 solClient.c:11120                    (1770b7000) Session '(c0,s1)_sinopac' keep-alive on tcp_TxRx detected session down, client name 'PYAPI/F129970274/0407/043506/574553/118.150.47.40', VPN name 'sinopac', peer host '203.66.91.161:80' address 'IP 203.66.91.161', connection 'tcp_TxRx' local address 'IP 192.168.100.9:50564'\n"
     ]
    },
    {
     "name": "stdout",
     "output_type": "stream",
     "text": [
      "Response Code: 0 | Event Code: 12 | Info: Session '(c0,s1)_sinopac' keep-alive on tcp_TxRx detected session down, client name 'PYAPI/F129970274/0407/043506/574553/118.150.47.40', VPN name 'sinopac', peer host '203.66.91.161:80' address 'IP 203.66.91.161', connection 'tcp_TxRx' local address 'IP 1 | Event: Session reconnecting\n",
      "Response Code: 0 | Event Code: 13 | Info: host '203.66.91.161:80', hostname '203.66.91.161:80' IP 203.66.91.161:80 (host 1 of 1) (host connection attempt 1 of 1) (total reconnection attempt 1 of 10) | Event: Session reconnected\n"
     ]
    },
    {
     "name": "stderr",
     "output_type": "stream",
     "text": [
      "SDK NOTICE Sun Apr 07 14:06:09.522 2024 solClient.c:11120                    (1770b7000) Session '(c0,s1)_sinopac' keep-alive on tcp_TxRx detected session down, client name 'PYAPI/F129970274/0407/043506/574553/118.150.47.40', VPN name 'sinopac', peer host '203.66.91.161:80' address 'IP 203.66.91.161', connection 'tcp_TxRx' local address 'IP 192.168.100.9:51269'\n"
     ]
    },
    {
     "name": "stdout",
     "output_type": "stream",
     "text": [
      "Response Code: 0 | Event Code: 12 | Info: Session '(c0,s1)_sinopac' keep-alive on tcp_TxRx detected session down, client name 'PYAPI/F129970274/0407/043506/574553/118.150.47.40', VPN name 'sinopac', peer host '203.66.91.161:80' address 'IP 203.66.91.161', connection 'tcp_TxRx' local address 'IP 1 | Event: Session reconnecting\n",
      "Response Code: 0 | Event Code: 13 | Info: host '203.66.91.161:80', hostname '203.66.91.161:80' IP 203.66.91.161:80 (host 1 of 1) (host connection attempt 1 of 1) (total reconnection attempt 1 of 10) | Event: Session reconnected\n"
     ]
    },
    {
     "name": "stderr",
     "output_type": "stream",
     "text": [
      "SDK NOTICE Sun Apr 07 14:08:14.504 2024 solClient.c:11120                    (1770b7000) Session '(c0,s1)_sinopac' keep-alive on tcp_TxRx detected session down, client name 'PYAPI/F129970274/0407/043506/574553/118.150.47.40', VPN name 'sinopac', peer host '203.66.91.161:80' address 'IP 203.66.91.161', connection 'tcp_TxRx' local address 'IP 192.168.100.9:51287'\n"
     ]
    },
    {
     "name": "stdout",
     "output_type": "stream",
     "text": [
      "Response Code: 0 | Event Code: 12 | Info: Session '(c0,s1)_sinopac' keep-alive on tcp_TxRx detected session down, client name 'PYAPI/F129970274/0407/043506/574553/118.150.47.40', VPN name 'sinopac', peer host '203.66.91.161:80' address 'IP 203.66.91.161', connection 'tcp_TxRx' local address 'IP 1 | Event: Session reconnecting\n",
      "Response Code: 0 | Event Code: 13 | Info: host '203.66.91.161:80', hostname '203.66.91.161:80' IP 203.66.91.161:80 (host 1 of 1) (host connection attempt 1 of 1) (total reconnection attempt 1 of 10) | Event: Session reconnected\n"
     ]
    },
    {
     "name": "stderr",
     "output_type": "stream",
     "text": [
      "SDK NOTICE Sun Apr 07 14:22:22.868 2024 solClient.c:11120                    (1770b7000) Session '(c0,s1)_sinopac' keep-alive on tcp_TxRx detected session down, client name 'PYAPI/F129970274/0407/043506/574553/118.150.47.40', VPN name 'sinopac', peer host '203.66.91.161:80' address 'IP 203.66.91.161', connection 'tcp_TxRx' local address 'IP 192.168.100.9:51303'\n"
     ]
    },
    {
     "name": "stdout",
     "output_type": "stream",
     "text": [
      "Response Code: 0 | Event Code: 12 | Info: Session '(c0,s1)_sinopac' keep-alive on tcp_TxRx detected session down, client name 'PYAPI/F129970274/0407/043506/574553/118.150.47.40', VPN name 'sinopac', peer host '203.66.91.161:80' address 'IP 203.66.91.161', connection 'tcp_TxRx' local address 'IP 1 | Event: Session reconnecting\n",
      "Response Code: 0 | Event Code: 13 | Info: host '203.66.91.161:80', hostname '203.66.91.161:80' IP 203.66.91.161:80 (host 1 of 1) (host connection attempt 1 of 1) (total reconnection attempt 1 of 10) | Event: Session reconnected\n"
     ]
    },
    {
     "name": "stderr",
     "output_type": "stream",
     "text": [
      "SDK NOTICE Sun Apr 07 14:31:31.770 2024 solClient.c:11120                    (1770b7000) Session '(c0,s1)_sinopac' keep-alive on tcp_TxRx detected session down, client name 'PYAPI/F129970274/0407/043506/574553/118.150.47.40', VPN name 'sinopac', peer host '203.66.91.161:80' address 'IP 203.66.91.161', connection 'tcp_TxRx' local address 'IP 192.168.100.9:51331'\n"
     ]
    },
    {
     "name": "stdout",
     "output_type": "stream",
     "text": [
      "Response Code: 0 | Event Code: 12 | Info: Session '(c0,s1)_sinopac' keep-alive on tcp_TxRx detected session down, client name 'PYAPI/F129970274/0407/043506/574553/118.150.47.40', VPN name 'sinopac', peer host '203.66.91.161:80' address 'IP 203.66.91.161', connection 'tcp_TxRx' local address 'IP 1 | Event: Session reconnecting\n",
      "Response Code: 0 | Event Code: 13 | Info: host '203.66.91.161:80', hostname '203.66.91.161:80' IP 203.66.91.161:80 (host 1 of 1) (host connection attempt 1 of 1) (total reconnection attempt 1 of 10) | Event: Session reconnected\n"
     ]
    },
    {
     "name": "stderr",
     "output_type": "stream",
     "text": [
      "SDK NOTICE Sun Apr 07 14:36:39.315 2024 solClient.c:11120                    (1770b7000) Session '(c0,s1)_sinopac' keep-alive on tcp_TxRx detected session down, client name 'PYAPI/F129970274/0407/043506/574553/118.150.47.40', VPN name 'sinopac', peer host '203.66.91.161:80' address 'IP 203.66.91.161', connection 'tcp_TxRx' local address 'IP 192.168.100.9:51369'\n"
     ]
    },
    {
     "name": "stdout",
     "output_type": "stream",
     "text": [
      "Response Code: 0 | Event Code: 12 | Info: Session '(c0,s1)_sinopac' keep-alive on tcp_TxRx detected session down, client name 'PYAPI/F129970274/0407/043506/574553/118.150.47.40', VPN name 'sinopac', peer host '203.66.91.161:80' address 'IP 203.66.91.161', connection 'tcp_TxRx' local address 'IP 1 | Event: Session reconnecting\n",
      "Response Code: 0 | Event Code: 13 | Info: host '203.66.91.161:80', hostname '203.66.91.161:80' IP 203.66.91.161:80 (host 1 of 1) (host connection attempt 1 of 1) (total reconnection attempt 1 of 10) | Event: Session reconnected\n"
     ]
    },
    {
     "name": "stderr",
     "output_type": "stream",
     "text": [
      "SDK NOTICE Sun Apr 07 14:54:28.196 2024 solClient.c:11120                    (1770b7000) Session '(c0,s1)_sinopac' keep-alive on tcp_TxRx detected session down, client name 'PYAPI/F129970274/0407/043506/574553/118.150.47.40', VPN name 'sinopac', peer host '203.66.91.161:80' address 'IP 203.66.91.161', connection 'tcp_TxRx' local address 'IP 192.168.100.9:51386'\n"
     ]
    },
    {
     "name": "stdout",
     "output_type": "stream",
     "text": [
      "Response Code: 0 | Event Code: 12 | Info: Session '(c0,s1)_sinopac' keep-alive on tcp_TxRx detected session down, client name 'PYAPI/F129970274/0407/043506/574553/118.150.47.40', VPN name 'sinopac', peer host '203.66.91.161:80' address 'IP 203.66.91.161', connection 'tcp_TxRx' local address 'IP 1 | Event: Session reconnecting\n",
      "Response Code: 0 | Event Code: 13 | Info: host '203.66.91.161:80', hostname '203.66.91.161:80' IP 203.66.91.161:80 (host 1 of 1) (host connection attempt 1 of 1) (total reconnection attempt 1 of 10) | Event: Session reconnected\n"
     ]
    },
    {
     "name": "stderr",
     "output_type": "stream",
     "text": [
      "SDK NOTICE Sun Apr 07 15:05:48.903 2024 solClient.c:11120                    (1770b7000) Session '(c0,s1)_sinopac' keep-alive on tcp_TxRx detected session down, client name 'PYAPI/F129970274/0407/043506/574553/118.150.47.40', VPN name 'sinopac', peer host '203.66.91.161:80' address 'IP 203.66.91.161', connection 'tcp_TxRx' local address 'IP 192.168.100.9:51413'\n"
     ]
    },
    {
     "name": "stdout",
     "output_type": "stream",
     "text": [
      "Response Code: 0 | Event Code: 12 | Info: Session '(c0,s1)_sinopac' keep-alive on tcp_TxRx detected session down, client name 'PYAPI/F129970274/0407/043506/574553/118.150.47.40', VPN name 'sinopac', peer host '203.66.91.161:80' address 'IP 203.66.91.161', connection 'tcp_TxRx' local address 'IP 1 | Event: Session reconnecting\n",
      "Response Code: 0 | Event Code: 13 | Info: host '203.66.91.161:80', hostname '203.66.91.161:80' IP 203.66.91.161:80 (host 1 of 1) (host connection attempt 1 of 1) (total reconnection attempt 1 of 10) | Event: Session reconnected\n"
     ]
    },
    {
     "name": "stderr",
     "output_type": "stream",
     "text": [
      "SDK NOTICE Sun Apr 07 15:09:03.799 2024 solClient.c:11120                    (1770b7000) Session '(c0,s1)_sinopac' keep-alive on tcp_TxRx detected session down, client name 'PYAPI/F129970274/0407/043506/574553/118.150.47.40', VPN name 'sinopac', peer host '203.66.91.161:80' address 'IP 203.66.91.161', connection 'tcp_TxRx' local address 'IP 192.168.100.9:51439'\n"
     ]
    },
    {
     "name": "stdout",
     "output_type": "stream",
     "text": [
      "Response Code: 0 | Event Code: 12 | Info: Session '(c0,s1)_sinopac' keep-alive on tcp_TxRx detected session down, client name 'PYAPI/F129970274/0407/043506/574553/118.150.47.40', VPN name 'sinopac', peer host '203.66.91.161:80' address 'IP 203.66.91.161', connection 'tcp_TxRx' local address 'IP 1 | Event: Session reconnecting\n",
      "Response Code: 0 | Event Code: 13 | Info: host '203.66.91.161:80', hostname '203.66.91.161:80' IP 203.66.91.161:80 (host 1 of 1) (host connection attempt 1 of 1) (total reconnection attempt 1 of 10) | Event: Session reconnected\n"
     ]
    },
    {
     "name": "stderr",
     "output_type": "stream",
     "text": [
      "SDK NOTICE Sun Apr 07 15:12:11.423 2024 solClient.c:11120                    (1770b7000) Session '(c0,s1)_sinopac' keep-alive on tcp_TxRx detected session down, client name 'PYAPI/F129970274/0407/043506/574553/118.150.47.40', VPN name 'sinopac', peer host '203.66.91.161:80' address 'IP 203.66.91.161', connection 'tcp_TxRx' local address 'IP 192.168.100.9:51463'\n"
     ]
    },
    {
     "name": "stdout",
     "output_type": "stream",
     "text": [
      "Response Code: 0 | Event Code: 12 | Info: Session '(c0,s1)_sinopac' keep-alive on tcp_TxRx detected session down, client name 'PYAPI/F129970274/0407/043506/574553/118.150.47.40', VPN name 'sinopac', peer host '203.66.91.161:80' address 'IP 203.66.91.161', connection 'tcp_TxRx' local address 'IP 1 | Event: Session reconnecting\n",
      "Response Code: 0 | Event Code: 13 | Info: host '203.66.91.161:80', hostname '203.66.91.161:80' IP 203.66.91.161:80 (host 1 of 1) (host connection attempt 1 of 1) (total reconnection attempt 1 of 10) | Event: Session reconnected\n"
     ]
    },
    {
     "name": "stderr",
     "output_type": "stream",
     "text": [
      "SDK NOTICE Sun Apr 07 15:16:45.853 2024 solClient.c:11120                    (1770b7000) Session '(c0,s1)_sinopac' keep-alive on tcp_TxRx detected session down, client name 'PYAPI/F129970274/0407/043506/574553/118.150.47.40', VPN name 'sinopac', peer host '203.66.91.161:80' address 'IP 203.66.91.161', connection 'tcp_TxRx' local address 'IP 192.168.100.9:51500'\n"
     ]
    },
    {
     "name": "stdout",
     "output_type": "stream",
     "text": [
      "Response Code: 0 | Event Code: 12 | Info: Session '(c0,s1)_sinopac' keep-alive on tcp_TxRx detected session down, client name 'PYAPI/F129970274/0407/043506/574553/118.150.47.40', VPN name 'sinopac', peer host '203.66.91.161:80' address 'IP 203.66.91.161', connection 'tcp_TxRx' local address 'IP 1 | Event: Session reconnecting\n",
      "Response Code: 0 | Event Code: 13 | Info: host '203.66.91.161:80', hostname '203.66.91.161:80' IP 203.66.91.161:80 (host 1 of 1) (host connection attempt 1 of 1) (total reconnection attempt 1 of 10) | Event: Session reconnected\n"
     ]
    },
    {
     "name": "stderr",
     "output_type": "stream",
     "text": [
      "SDK NOTICE Sun Apr 07 15:18:27.726 2024 solClient.c:11120                    (1770b7000) Session '(c0,s1)_sinopac' keep-alive on tcp_TxRx detected session down, client name 'PYAPI/F129970274/0407/043506/574553/118.150.47.40', VPN name 'sinopac', peer host '203.66.91.161:80' address 'IP 203.66.91.161', connection 'tcp_TxRx' local address 'IP 192.168.100.9:51525'\n"
     ]
    },
    {
     "name": "stdout",
     "output_type": "stream",
     "text": [
      "Response Code: 0 | Event Code: 12 | Info: Session '(c0,s1)_sinopac' keep-alive on tcp_TxRx detected session down, client name 'PYAPI/F129970274/0407/043506/574553/118.150.47.40', VPN name 'sinopac', peer host '203.66.91.161:80' address 'IP 203.66.91.161', connection 'tcp_TxRx' local address 'IP 1 | Event: Session reconnecting\n",
      "Response Code: 0 | Event Code: 13 | Info: host '203.66.91.161:80', hostname '203.66.91.161:80' IP 203.66.91.161:80 (host 1 of 1) (host connection attempt 1 of 1) (total reconnection attempt 1 of 10) | Event: Session reconnected\n"
     ]
    },
    {
     "name": "stderr",
     "output_type": "stream",
     "text": [
      "SDK NOTICE Sun Apr 07 15:25:12.561 2024 solClient.c:11120                    (1770b7000) Session '(c0,s1)_sinopac' keep-alive on tcp_TxRx detected session down, client name 'PYAPI/F129970274/0407/043506/574553/118.150.47.40', VPN name 'sinopac', peer host '203.66.91.161:80' address 'IP 203.66.91.161', connection 'tcp_TxRx' local address 'IP 192.168.100.9:51538'\n"
     ]
    },
    {
     "name": "stdout",
     "output_type": "stream",
     "text": [
      "Response Code: 0 | Event Code: 12 | Info: Session '(c0,s1)_sinopac' keep-alive on tcp_TxRx detected session down, client name 'PYAPI/F129970274/0407/043506/574553/118.150.47.40', VPN name 'sinopac', peer host '203.66.91.161:80' address 'IP 203.66.91.161', connection 'tcp_TxRx' local address 'IP 1 | Event: Session reconnecting\n",
      "Response Code: 0 | Event Code: 13 | Info: host '203.66.91.161:80', hostname '203.66.91.161:80' IP 203.66.91.161:80 (host 1 of 1) (host connection attempt 1 of 1) (total reconnection attempt 1 of 10) | Event: Session reconnected\n"
     ]
    },
    {
     "name": "stderr",
     "output_type": "stream",
     "text": [
      "SDK NOTICE Sun Apr 07 15:43:50.315 2024 solClient.c:11120                    (1770b7000) Session '(c0,s1)_sinopac' keep-alive on tcp_TxRx detected session down, client name 'PYAPI/F129970274/0407/043506/574553/118.150.47.40', VPN name 'sinopac', peer host '203.66.91.161:80' address 'IP 203.66.91.161', connection 'tcp_TxRx' local address 'IP 192.168.100.9:51555'\n"
     ]
    },
    {
     "name": "stdout",
     "output_type": "stream",
     "text": [
      "Response Code: 0 | Event Code: 12 | Info: Session '(c0,s1)_sinopac' keep-alive on tcp_TxRx detected session down, client name 'PYAPI/F129970274/0407/043506/574553/118.150.47.40', VPN name 'sinopac', peer host '203.66.91.161:80' address 'IP 203.66.91.161', connection 'tcp_TxRx' local address 'IP 1 | Event: Session reconnecting\n",
      "Response Code: 0 | Event Code: 13 | Info: host '203.66.91.161:80', hostname '203.66.91.161:80' IP 203.66.91.161:80 (host 1 of 1) (host connection attempt 1 of 1) (total reconnection attempt 1 of 10) | Event: Session reconnected\n"
     ]
    },
    {
     "name": "stderr",
     "output_type": "stream",
     "text": [
      "SDK NOTICE Sun Apr 07 16:00:19.809 2024 solClient.c:11120                    (1770b7000) Session '(c0,s1)_sinopac' keep-alive on tcp_TxRx detected session down, client name 'PYAPI/F129970274/0407/043506/574553/118.150.47.40', VPN name 'sinopac', peer host '203.66.91.161:80' address 'IP 203.66.91.161', connection 'tcp_TxRx' local address 'IP 192.168.100.9:51578'\n"
     ]
    },
    {
     "name": "stdout",
     "output_type": "stream",
     "text": [
      "Response Code: 0 | Event Code: 12 | Info: Session '(c0,s1)_sinopac' keep-alive on tcp_TxRx detected session down, client name 'PYAPI/F129970274/0407/043506/574553/118.150.47.40', VPN name 'sinopac', peer host '203.66.91.161:80' address 'IP 203.66.91.161', connection 'tcp_TxRx' local address 'IP 1 | Event: Session reconnecting\n",
      "Response Code: 0 | Event Code: 13 | Info: host '203.66.91.161:80', hostname '203.66.91.161:80' IP 203.66.91.161:80 (host 1 of 1) (host connection attempt 1 of 1) (total reconnection attempt 1 of 10) | Event: Session reconnected\n"
     ]
    },
    {
     "name": "stderr",
     "output_type": "stream",
     "text": [
      "SDK NOTICE Sun Apr 07 16:18:13.992 2024 solClient.c:11120                    (1770b7000) Session '(c0,s1)_sinopac' keep-alive on tcp_TxRx detected session down, client name 'PYAPI/F129970274/0407/043506/574553/118.150.47.40', VPN name 'sinopac', peer host '203.66.91.161:80' address 'IP 203.66.91.161', connection 'tcp_TxRx' local address 'IP 192.168.100.9:51612'\n"
     ]
    },
    {
     "name": "stdout",
     "output_type": "stream",
     "text": [
      "Response Code: 0 | Event Code: 12 | Info: Session '(c0,s1)_sinopac' keep-alive on tcp_TxRx detected session down, client name 'PYAPI/F129970274/0407/043506/574553/118.150.47.40', VPN name 'sinopac', peer host '203.66.91.161:80' address 'IP 203.66.91.161', connection 'tcp_TxRx' local address 'IP 1 | Event: Session reconnecting\n",
      "Response Code: 0 | Event Code: 13 | Info: host '203.66.91.161:80', hostname '203.66.91.161:80' IP 203.66.91.161:80 (host 1 of 1) (host connection attempt 1 of 1) (total reconnection attempt 1 of 10) | Event: Session reconnected\n"
     ]
    },
    {
     "name": "stderr",
     "output_type": "stream",
     "text": [
      "SDK NOTICE Sun Apr 07 16:34:05.311 2024 solClient.c:11120                    (1770b7000) Session '(c0,s1)_sinopac' keep-alive on tcp_TxRx detected session down, client name 'PYAPI/F129970274/0407/043506/574553/118.150.47.40', VPN name 'sinopac', peer host '203.66.91.161:80' address 'IP 203.66.91.161', connection 'tcp_TxRx' local address 'IP 192.168.100.9:51675'\n"
     ]
    },
    {
     "name": "stdout",
     "output_type": "stream",
     "text": [
      "Response Code: 0 | Event Code: 12 | Info: Session '(c0,s1)_sinopac' keep-alive on tcp_TxRx detected session down, client name 'PYAPI/F129970274/0407/043506/574553/118.150.47.40', VPN name 'sinopac', peer host '203.66.91.161:80' address 'IP 203.66.91.161', connection 'tcp_TxRx' local address 'IP 1 | Event: Session reconnecting\n",
      "Response Code: 0 | Event Code: 13 | Info: host '203.66.91.161:80', hostname '203.66.91.161:80' IP 203.66.91.161:80 (host 1 of 1) (host connection attempt 1 of 1) (total reconnection attempt 1 of 10) | Event: Session reconnected\n"
     ]
    },
    {
     "name": "stderr",
     "output_type": "stream",
     "text": [
      "SDK NOTICE Sun Apr 07 16:52:48.249 2024 solClient.c:11120                    (1770b7000) Session '(c0,s1)_sinopac' keep-alive on tcp_TxRx detected session down, client name 'PYAPI/F129970274/0407/043506/574553/118.150.47.40', VPN name 'sinopac', peer host '203.66.91.161:80' address 'IP 203.66.91.161', connection 'tcp_TxRx' local address 'IP 192.168.100.9:51720'\n"
     ]
    },
    {
     "name": "stdout",
     "output_type": "stream",
     "text": [
      "Response Code: 0 | Event Code: 12 | Info: Session '(c0,s1)_sinopac' keep-alive on tcp_TxRx detected session down, client name 'PYAPI/F129970274/0407/043506/574553/118.150.47.40', VPN name 'sinopac', peer host '203.66.91.161:80' address 'IP 203.66.91.161', connection 'tcp_TxRx' local address 'IP 1 | Event: Session reconnecting\n",
      "Response Code: 0 | Event Code: 13 | Info: host '203.66.91.161:80', hostname '203.66.91.161:80' IP 203.66.91.161:80 (host 1 of 1) (host connection attempt 1 of 1) (total reconnection attempt 1 of 10) | Event: Session reconnected\n"
     ]
    },
    {
     "name": "stderr",
     "output_type": "stream",
     "text": [
      "SDK NOTICE Sun Apr 07 17:11:09.176 2024 solClient.c:11120                    (1770b7000) Session '(c0,s1)_sinopac' keep-alive on tcp_TxRx detected session down, client name 'PYAPI/F129970274/0407/043506/574553/118.150.47.40', VPN name 'sinopac', peer host '203.66.91.161:80' address 'IP 203.66.91.161', connection 'tcp_TxRx' local address 'IP 192.168.100.9:51753'\n"
     ]
    },
    {
     "name": "stdout",
     "output_type": "stream",
     "text": [
      "Response Code: 0 | Event Code: 12 | Info: Session '(c0,s1)_sinopac' keep-alive on tcp_TxRx detected session down, client name 'PYAPI/F129970274/0407/043506/574553/118.150.47.40', VPN name 'sinopac', peer host '203.66.91.161:80' address 'IP 203.66.91.161', connection 'tcp_TxRx' local address 'IP 1 | Event: Session reconnecting\n",
      "Response Code: 0 | Event Code: 13 | Info: host '203.66.91.161:80', hostname '203.66.91.161:80' IP 203.66.91.161:80 (host 1 of 1) (host connection attempt 1 of 1) (total reconnection attempt 1 of 10) | Event: Session reconnected\n"
     ]
    },
    {
     "name": "stderr",
     "output_type": "stream",
     "text": [
      "SDK NOTICE Sun Apr 07 17:26:59.534 2024 solClient.c:11120                    (1770b7000) Session '(c0,s1)_sinopac' keep-alive on tcp_TxRx detected session down, client name 'PYAPI/F129970274/0407/043506/574553/118.150.47.40', VPN name 'sinopac', peer host '203.66.91.161:80' address 'IP 203.66.91.161', connection 'tcp_TxRx' local address 'IP 192.168.100.9:51796'\n"
     ]
    },
    {
     "name": "stdout",
     "output_type": "stream",
     "text": [
      "Response Code: 0 | Event Code: 12 | Info: Session '(c0,s1)_sinopac' keep-alive on tcp_TxRx detected session down, client name 'PYAPI/F129970274/0407/043506/574553/118.150.47.40', VPN name 'sinopac', peer host '203.66.91.161:80' address 'IP 203.66.91.161', connection 'tcp_TxRx' local address 'IP 1 | Event: Session reconnecting\n",
      "Response Code: 0 | Event Code: 13 | Info: host '203.66.91.161:80', hostname '203.66.91.161:80' IP 203.66.91.161:80 (host 1 of 1) (host connection attempt 1 of 1) (total reconnection attempt 1 of 10) | Event: Session reconnected\n"
     ]
    },
    {
     "name": "stderr",
     "output_type": "stream",
     "text": [
      "SDK NOTICE Sun Apr 07 17:42:06.788 2024 solClient.c:11120                    (1770b7000) Session '(c0,s1)_sinopac' keep-alive on tcp_TxRx detected session down, client name 'PYAPI/F129970274/0407/043506/574553/118.150.47.40', VPN name 'sinopac', peer host '203.66.91.161:80' address 'IP 203.66.91.161', connection 'tcp_TxRx' local address 'IP 192.168.100.9:51840'\n"
     ]
    },
    {
     "name": "stdout",
     "output_type": "stream",
     "text": [
      "Response Code: 0 | Event Code: 12 | Info: Session '(c0,s1)_sinopac' keep-alive on tcp_TxRx detected session down, client name 'PYAPI/F129970274/0407/043506/574553/118.150.47.40', VPN name 'sinopac', peer host '203.66.91.161:80' address 'IP 203.66.91.161', connection 'tcp_TxRx' local address 'IP 1 | Event: Session reconnecting\n",
      "Response Code: 0 | Event Code: 13 | Info: host '203.66.91.161:80', hostname '203.66.91.161:80' IP 203.66.91.161:80 (host 1 of 1) (host connection attempt 1 of 1) (total reconnection attempt 1 of 10) | Event: Session reconnected\n"
     ]
    },
    {
     "name": "stderr",
     "output_type": "stream",
     "text": [
      "SDK NOTICE Sun Apr 07 17:59:21.246 2024 solClient.c:11120                    (1770b7000) Session '(c0,s1)_sinopac' keep-alive on tcp_TxRx detected session down, client name 'PYAPI/F129970274/0407/043506/574553/118.150.47.40', VPN name 'sinopac', peer host '203.66.91.161:80' address 'IP 203.66.91.161', connection 'tcp_TxRx' local address 'IP 192.168.100.9:51868'\n"
     ]
    },
    {
     "name": "stdout",
     "output_type": "stream",
     "text": [
      "Response Code: 0 | Event Code: 12 | Info: Session '(c0,s1)_sinopac' keep-alive on tcp_TxRx detected session down, client name 'PYAPI/F129970274/0407/043506/574553/118.150.47.40', VPN name 'sinopac', peer host '203.66.91.161:80' address 'IP 203.66.91.161', connection 'tcp_TxRx' local address 'IP 1 | Event: Session reconnecting\n",
      "Response Code: 0 | Event Code: 13 | Info: host '203.66.91.161:80', hostname '203.66.91.161:80' IP 203.66.91.161:80 (host 1 of 1) (host connection attempt 1 of 1) (total reconnection attempt 1 of 10) | Event: Session reconnected\n"
     ]
    },
    {
     "name": "stderr",
     "output_type": "stream",
     "text": [
      "SDK NOTICE Sun Apr 07 18:16:53.490 2024 solClient.c:11120                    (1770b7000) Session '(c0,s1)_sinopac' keep-alive on tcp_TxRx detected session down, client name 'PYAPI/F129970274/0407/043506/574553/118.150.47.40', VPN name 'sinopac', peer host '203.66.91.161:80' address 'IP 203.66.91.161', connection 'tcp_TxRx' local address 'IP 192.168.100.9:51896'\n"
     ]
    },
    {
     "name": "stdout",
     "output_type": "stream",
     "text": [
      "Response Code: 0 | Event Code: 12 | Info: Session '(c0,s1)_sinopac' keep-alive on tcp_TxRx detected session down, client name 'PYAPI/F129970274/0407/043506/574553/118.150.47.40', VPN name 'sinopac', peer host '203.66.91.161:80' address 'IP 203.66.91.161', connection 'tcp_TxRx' local address 'IP 1 | Event: Session reconnecting\n",
      "Response Code: 0 | Event Code: 13 | Info: host '203.66.91.161:80', hostname '203.66.91.161:80' IP 203.66.91.161:80 (host 1 of 1) (host connection attempt 1 of 1) (total reconnection attempt 1 of 10) | Event: Session reconnected\n"
     ]
    },
    {
     "name": "stderr",
     "output_type": "stream",
     "text": [
      "SDK NOTICE Sun Apr 07 18:33:07.814 2024 solClient.c:11120                    (1770b7000) Session '(c0,s1)_sinopac' keep-alive on tcp_TxRx detected session down, client name 'PYAPI/F129970274/0407/043506/574553/118.150.47.40', VPN name 'sinopac', peer host '203.66.91.161:80' address 'IP 203.66.91.161', connection 'tcp_TxRx' local address 'IP 192.168.100.9:51936'\n"
     ]
    },
    {
     "name": "stdout",
     "output_type": "stream",
     "text": [
      "Response Code: 0 | Event Code: 12 | Info: Session '(c0,s1)_sinopac' keep-alive on tcp_TxRx detected session down, client name 'PYAPI/F129970274/0407/043506/574553/118.150.47.40', VPN name 'sinopac', peer host '203.66.91.161:80' address 'IP 203.66.91.161', connection 'tcp_TxRx' local address 'IP 1 | Event: Session reconnecting\n",
      "Response Code: 0 | Event Code: 13 | Info: host '203.66.91.161:80', hostname '203.66.91.161:80' IP 203.66.91.161:80 (host 1 of 1) (host connection attempt 1 of 1) (total reconnection attempt 1 of 10) | Event: Session reconnected\n"
     ]
    },
    {
     "name": "stderr",
     "output_type": "stream",
     "text": [
      "SDK NOTICE Sun Apr 07 18:50:27.561 2024 solClient.c:11120                    (1770b7000) Session '(c0,s1)_sinopac' keep-alive on tcp_TxRx detected session down, client name 'PYAPI/F129970274/0407/043506/574553/118.150.47.40', VPN name 'sinopac', peer host '203.66.91.161:80' address 'IP 203.66.91.161', connection 'tcp_TxRx' local address 'IP 192.168.100.9:51994'\n"
     ]
    },
    {
     "name": "stdout",
     "output_type": "stream",
     "text": [
      "Response Code: 0 | Event Code: 12 | Info: Session '(c0,s1)_sinopac' keep-alive on tcp_TxRx detected session down, client name 'PYAPI/F129970274/0407/043506/574553/118.150.47.40', VPN name 'sinopac', peer host '203.66.91.161:80' address 'IP 203.66.91.161', connection 'tcp_TxRx' local address 'IP 1 | Event: Session reconnecting\n",
      "Response Code: 0 | Event Code: 13 | Info: host '203.66.91.161:80', hostname '203.66.91.161:80' IP 203.66.91.161:80 (host 1 of 1) (host connection attempt 1 of 1) (total reconnection attempt 1 of 10) | Event: Session reconnected\n"
     ]
    },
    {
     "name": "stderr",
     "output_type": "stream",
     "text": [
      "SDK NOTICE Sun Apr 07 19:08:11.359 2024 solClient.c:11120                    (1770b7000) Session '(c0,s1)_sinopac' keep-alive on tcp_TxRx detected session down, client name 'PYAPI/F129970274/0407/043506/574553/118.150.47.40', VPN name 'sinopac', peer host '203.66.91.161:80' address 'IP 203.66.91.161', connection 'tcp_TxRx' local address 'IP 192.168.100.9:52033'\n"
     ]
    },
    {
     "name": "stdout",
     "output_type": "stream",
     "text": [
      "Response Code: 0 | Event Code: 12 | Info: Session '(c0,s1)_sinopac' keep-alive on tcp_TxRx detected session down, client name 'PYAPI/F129970274/0407/043506/574553/118.150.47.40', VPN name 'sinopac', peer host '203.66.91.161:80' address 'IP 203.66.91.161', connection 'tcp_TxRx' local address 'IP 1 | Event: Session reconnecting\n",
      "Response Code: 0 | Event Code: 13 | Info: host '203.66.91.161:80', hostname '203.66.91.161:80' IP 203.66.91.161:80 (host 1 of 1) (host connection attempt 1 of 1) (total reconnection attempt 1 of 10) | Event: Session reconnected\n"
     ]
    },
    {
     "name": "stderr",
     "output_type": "stream",
     "text": [
      "SDK NOTICE Sun Apr 07 19:24:47.768 2024 solClient.c:11120                    (1770b7000) Session '(c0,s1)_sinopac' keep-alive on tcp_TxRx detected session down, client name 'PYAPI/F129970274/0407/043506/574553/118.150.47.40', VPN name 'sinopac', peer host '203.66.91.161:80' address 'IP 203.66.91.161', connection 'tcp_TxRx' local address 'IP 192.168.100.9:52062'\n"
     ]
    },
    {
     "name": "stdout",
     "output_type": "stream",
     "text": [
      "Response Code: 0 | Event Code: 12 | Info: Session '(c0,s1)_sinopac' keep-alive on tcp_TxRx detected session down, client name 'PYAPI/F129970274/0407/043506/574553/118.150.47.40', VPN name 'sinopac', peer host '203.66.91.161:80' address 'IP 203.66.91.161', connection 'tcp_TxRx' local address 'IP 1 | Event: Session reconnecting\n",
      "Response Code: 0 | Event Code: 13 | Info: host '203.66.91.161:80', hostname '203.66.91.161:80' IP 203.66.91.161:80 (host 1 of 1) (host connection attempt 1 of 1) (total reconnection attempt 1 of 10) | Event: Session reconnected\n"
     ]
    },
    {
     "name": "stderr",
     "output_type": "stream",
     "text": [
      "SDK NOTICE Sun Apr 07 19:42:20.089 2024 solClient.c:11120                    (1770b7000) Session '(c0,s1)_sinopac' keep-alive on tcp_TxRx detected session down, client name 'PYAPI/F129970274/0407/043506/574553/118.150.47.40', VPN name 'sinopac', peer host '203.66.91.161:80' address 'IP 203.66.91.161', connection 'tcp_TxRx' local address 'IP 192.168.100.9:52100'\n"
     ]
    },
    {
     "name": "stdout",
     "output_type": "stream",
     "text": [
      "Response Code: 0 | Event Code: 12 | Info: Session '(c0,s1)_sinopac' keep-alive on tcp_TxRx detected session down, client name 'PYAPI/F129970274/0407/043506/574553/118.150.47.40', VPN name 'sinopac', peer host '203.66.91.161:80' address 'IP 203.66.91.161', connection 'tcp_TxRx' local address 'IP 1 | Event: Session reconnecting\n",
      "Response Code: 0 | Event Code: 13 | Info: host '203.66.91.161:80', hostname '203.66.91.161:80' IP 203.66.91.161:80 (host 1 of 1) (host connection attempt 1 of 1) (total reconnection attempt 1 of 10) | Event: Session reconnected\n"
     ]
    },
    {
     "name": "stderr",
     "output_type": "stream",
     "text": [
      "SDK NOTICE Sun Apr 07 19:48:31.397 2024 solClient.c:11120                    (1770b7000) Session '(c0,s1)_sinopac' keep-alive on tcp_TxRx detected session down, client name 'PYAPI/F129970274/0407/043506/574553/118.150.47.40', VPN name 'sinopac', peer host '203.66.91.161:80' address 'IP 203.66.91.161', connection 'tcp_TxRx' local address 'IP 192.168.100.9:52158'\n"
     ]
    },
    {
     "name": "stdout",
     "output_type": "stream",
     "text": [
      "Response Code: 0 | Event Code: 12 | Info: Session '(c0,s1)_sinopac' keep-alive on tcp_TxRx detected session down, client name 'PYAPI/F129970274/0407/043506/574553/118.150.47.40', VPN name 'sinopac', peer host '203.66.91.161:80' address 'IP 203.66.91.161', connection 'tcp_TxRx' local address 'IP 1 | Event: Session reconnecting\n",
      "Response Code: 0 | Event Code: 13 | Info: host '203.66.91.161:80', hostname '203.66.91.161:80' IP 203.66.91.161:80 (host 1 of 1) (host connection attempt 1 of 1) (total reconnection attempt 1 of 10) | Event: Session reconnected\n"
     ]
    },
    {
     "name": "stderr",
     "output_type": "stream",
     "text": [
      "SDK NOTICE Sun Apr 07 19:49:37.829 2024 solClient.c:11120                    (1770b7000) Session '(c0,s1)_sinopac' keep-alive on tcp_TxRx detected session down, client name 'PYAPI/F129970274/0407/043506/574553/118.150.47.40', VPN name 'sinopac', peer host '203.66.91.161:80' address 'IP 203.66.91.161', connection 'tcp_TxRx' local address 'IP 192.168.100.9:52179'\n"
     ]
    },
    {
     "name": "stdout",
     "output_type": "stream",
     "text": [
      "Response Code: 0 | Event Code: 12 | Info: Session '(c0,s1)_sinopac' keep-alive on tcp_TxRx detected session down, client name 'PYAPI/F129970274/0407/043506/574553/118.150.47.40', VPN name 'sinopac', peer host '203.66.91.161:80' address 'IP 203.66.91.161', connection 'tcp_TxRx' local address 'IP 1 | Event: Session reconnecting\n",
      "Response Code: 0 | Event Code: 13 | Info: host '203.66.91.161:80', hostname '203.66.91.161:80' IP 203.66.91.161:80 (host 1 of 1) (host connection attempt 1 of 1) (total reconnection attempt 1 of 10) | Event: Session reconnected\n"
     ]
    },
    {
     "name": "stderr",
     "output_type": "stream",
     "text": [
      "SDK NOTICE Sun Apr 07 20:02:53.259 2024 solClient.c:11120                    (1770b7000) Session '(c0,s1)_sinopac' keep-alive on tcp_TxRx detected session down, client name 'PYAPI/F129970274/0407/043506/574553/118.150.47.40', VPN name 'sinopac', peer host '203.66.91.161:80' address 'IP 203.66.91.161', connection 'tcp_TxRx' local address 'IP 192.168.100.9:52199'\n"
     ]
    },
    {
     "name": "stdout",
     "output_type": "stream",
     "text": [
      "Response Code: 0 | Event Code: 12 | Info: Session '(c0,s1)_sinopac' keep-alive on tcp_TxRx detected session down, client name 'PYAPI/F129970274/0407/043506/574553/118.150.47.40', VPN name 'sinopac', peer host '203.66.91.161:80' address 'IP 203.66.91.161', connection 'tcp_TxRx' local address 'IP 1 | Event: Session reconnecting\n",
      "Response Code: 0 | Event Code: 13 | Info: host '203.66.91.161:80', hostname '203.66.91.161:80' IP 203.66.91.161:80 (host 1 of 1) (host connection attempt 1 of 1) (total reconnection attempt 1 of 10) | Event: Session reconnected\n"
     ]
    },
    {
     "name": "stderr",
     "output_type": "stream",
     "text": [
      "SDK NOTICE Sun Apr 07 20:11:12.538 2024 solClient.c:11120                    (1770b7000) Session '(c0,s1)_sinopac' keep-alive on tcp_TxRx detected session down, client name 'PYAPI/F129970274/0407/043506/574553/118.150.47.40', VPN name 'sinopac', peer host '203.66.91.161:80' address 'IP 203.66.91.161', connection 'tcp_TxRx' local address 'IP 192.168.100.9:52214'\n"
     ]
    },
    {
     "name": "stdout",
     "output_type": "stream",
     "text": [
      "Response Code: 0 | Event Code: 12 | Info: Session '(c0,s1)_sinopac' keep-alive on tcp_TxRx detected session down, client name 'PYAPI/F129970274/0407/043506/574553/118.150.47.40', VPN name 'sinopac', peer host '203.66.91.161:80' address 'IP 203.66.91.161', connection 'tcp_TxRx' local address 'IP 1 | Event: Session reconnecting\n",
      "Response Code: 0 | Event Code: 13 | Info: host '203.66.91.161:80', hostname '203.66.91.161:80' IP 203.66.91.161:80 (host 1 of 1) (host connection attempt 1 of 1) (total reconnection attempt 1 of 10) | Event: Session reconnected\n"
     ]
    },
    {
     "name": "stderr",
     "output_type": "stream",
     "text": [
      "SDK NOTICE Sun Apr 07 20:28:43.924 2024 solClient.c:11120                    (1770b7000) Session '(c0,s1)_sinopac' keep-alive on tcp_TxRx detected session down, client name 'PYAPI/F129970274/0407/043506/574553/118.150.47.40', VPN name 'sinopac', peer host '203.66.91.161:80' address 'IP 203.66.91.161', connection 'tcp_TxRx' local address 'IP 192.168.100.9:52231'\n"
     ]
    },
    {
     "name": "stdout",
     "output_type": "stream",
     "text": [
      "Response Code: 0 | Event Code: 12 | Info: Session '(c0,s1)_sinopac' keep-alive on tcp_TxRx detected session down, client name 'PYAPI/F129970274/0407/043506/574553/118.150.47.40', VPN name 'sinopac', peer host '203.66.91.161:80' address 'IP 203.66.91.161', connection 'tcp_TxRx' local address 'IP 1 | Event: Session reconnecting\n",
      "Response Code: 0 | Event Code: 13 | Info: host '203.66.91.161:80', hostname '203.66.91.161:80' IP 203.66.91.161:80 (host 1 of 1) (host connection attempt 1 of 1) (total reconnection attempt 1 of 10) | Event: Session reconnected\n"
     ]
    },
    {
     "name": "stderr",
     "output_type": "stream",
     "text": [
      "SDK NOTICE Sun Apr 07 20:44:57.089 2024 solClient.c:11120                    (1770b7000) Session '(c0,s1)_sinopac' keep-alive on tcp_TxRx detected session down, client name 'PYAPI/F129970274/0407/043506/574553/118.150.47.40', VPN name 'sinopac', peer host '203.66.91.161:80' address 'IP 203.66.91.161', connection 'tcp_TxRx' local address 'IP 192.168.100.9:52251'\n"
     ]
    },
    {
     "name": "stdout",
     "output_type": "stream",
     "text": [
      "Response Code: 0 | Event Code: 12 | Info: Session '(c0,s1)_sinopac' keep-alive on tcp_TxRx detected session down, client name 'PYAPI/F129970274/0407/043506/574553/118.150.47.40', VPN name 'sinopac', peer host '203.66.91.161:80' address 'IP 203.66.91.161', connection 'tcp_TxRx' local address 'IP 1 | Event: Session reconnecting\n",
      "Response Code: 0 | Event Code: 13 | Info: host '203.66.91.161:80', hostname '203.66.91.161:80' IP 203.66.91.161:80 (host 1 of 1) (host connection attempt 1 of 1) (total reconnection attempt 1 of 10) | Event: Session reconnected\n"
     ]
    },
    {
     "name": "stderr",
     "output_type": "stream",
     "text": [
      "SDK NOTICE Sun Apr 07 20:49:23.744 2024 solClient.c:11120                    (1770b7000) Session '(c0,s1)_sinopac' keep-alive on tcp_TxRx detected session down, client name 'PYAPI/F129970274/0407/043506/574553/118.150.47.40', VPN name 'sinopac', peer host '203.66.91.161:80' address 'IP 203.66.91.161', connection 'tcp_TxRx' local address 'IP 192.168.100.9:52314'\n"
     ]
    },
    {
     "name": "stdout",
     "output_type": "stream",
     "text": [
      "Response Code: 0 | Event Code: 12 | Info: Session '(c0,s1)_sinopac' keep-alive on tcp_TxRx detected session down, client name 'PYAPI/F129970274/0407/043506/574553/118.150.47.40', VPN name 'sinopac', peer host '203.66.91.161:80' address 'IP 203.66.91.161', connection 'tcp_TxRx' local address 'IP 1 | Event: Session reconnecting\n",
      "Response Code: 0 | Event Code: 13 | Info: host '203.66.91.161:80', hostname '203.66.91.161:80' IP 203.66.91.161:80 (host 1 of 1) (host connection attempt 1 of 1) (total reconnection attempt 1 of 10) | Event: Session reconnected\n"
     ]
    },
    {
     "name": "stderr",
     "output_type": "stream",
     "text": [
      "SDK NOTICE Sun Apr 07 20:55:15.195 2024 solClient.c:11120                    (1770b7000) Session '(c0,s1)_sinopac' keep-alive on tcp_TxRx detected session down, client name 'PYAPI/F129970274/0407/043506/574553/118.150.47.40', VPN name 'sinopac', peer host '203.66.91.161:80' address 'IP 203.66.91.161', connection 'tcp_TxRx' local address 'IP 192.168.100.9:52336'\n"
     ]
    },
    {
     "name": "stdout",
     "output_type": "stream",
     "text": [
      "Response Code: 0 | Event Code: 12 | Info: Session '(c0,s1)_sinopac' keep-alive on tcp_TxRx detected session down, client name 'PYAPI/F129970274/0407/043506/574553/118.150.47.40', VPN name 'sinopac', peer host '203.66.91.161:80' address 'IP 203.66.91.161', connection 'tcp_TxRx' local address 'IP 1 | Event: Session reconnecting\n",
      "Response Code: 0 | Event Code: 13 | Info: host '203.66.91.161:80', hostname '203.66.91.161:80' IP 203.66.91.161:80 (host 1 of 1) (host connection attempt 1 of 1) (total reconnection attempt 1 of 10) | Event: Session reconnected\n"
     ]
    },
    {
     "name": "stderr",
     "output_type": "stream",
     "text": [
      "SDK NOTICE Sun Apr 07 21:04:46.720 2024 solClient.c:11120                    (1770b7000) Session '(c0,s1)_sinopac' keep-alive on tcp_TxRx detected session down, client name 'PYAPI/F129970274/0407/043506/574553/118.150.47.40', VPN name 'sinopac', peer host '203.66.91.161:80' address 'IP 203.66.91.161', connection 'tcp_TxRx' local address 'IP 192.168.100.9:52368'\n"
     ]
    },
    {
     "name": "stdout",
     "output_type": "stream",
     "text": [
      "Response Code: 0 | Event Code: 12 | Info: Session '(c0,s1)_sinopac' keep-alive on tcp_TxRx detected session down, client name 'PYAPI/F129970274/0407/043506/574553/118.150.47.40', VPN name 'sinopac', peer host '203.66.91.161:80' address 'IP 203.66.91.161', connection 'tcp_TxRx' local address 'IP 1 | Event: Session reconnecting\n",
      "Response Code: 0 | Event Code: 13 | Info: host '203.66.91.161:80', hostname '203.66.91.161:80' IP 203.66.91.161:80 (host 1 of 1) (host connection attempt 1 of 1) (total reconnection attempt 1 of 10) | Event: Session reconnected\n"
     ]
    },
    {
     "name": "stderr",
     "output_type": "stream",
     "text": [
      "SDK NOTICE Sun Apr 07 21:06:44.178 2024 solClient.c:11120                    (1770b7000) Session '(c0,s1)_sinopac' keep-alive on tcp_TxRx detected session down, client name 'PYAPI/F129970274/0407/043506/574553/118.150.47.40', VPN name 'sinopac', peer host '203.66.91.161:80' address 'IP 203.66.91.161', connection 'tcp_TxRx' local address 'IP 192.168.100.9:52386'\n"
     ]
    },
    {
     "name": "stdout",
     "output_type": "stream",
     "text": [
      "Response Code: 0 | Event Code: 12 | Info: Session '(c0,s1)_sinopac' keep-alive on tcp_TxRx detected session down, client name 'PYAPI/F129970274/0407/043506/574553/118.150.47.40', VPN name 'sinopac', peer host '203.66.91.161:80' address 'IP 203.66.91.161', connection 'tcp_TxRx' local address 'IP 1 | Event: Session reconnecting\n",
      "Response Code: 0 | Event Code: 13 | Info: host '203.66.91.161:80', hostname '203.66.91.161:80' IP 203.66.91.161:80 (host 1 of 1) (host connection attempt 1 of 1) (total reconnection attempt 1 of 10) | Event: Session reconnected\n"
     ]
    },
    {
     "name": "stderr",
     "output_type": "stream",
     "text": [
      "SDK NOTICE Sun Apr 07 21:08:50.265 2024 solClient.c:11120                    (1770b7000) Session '(c0,s1)_sinopac' keep-alive on tcp_TxRx detected session down, client name 'PYAPI/F129970274/0407/043506/574553/118.150.47.40', VPN name 'sinopac', peer host '203.66.91.161:80' address 'IP 203.66.91.161', connection 'tcp_TxRx' local address 'IP 192.168.100.9:52428'\n"
     ]
    },
    {
     "name": "stdout",
     "output_type": "stream",
     "text": [
      "Response Code: 0 | Event Code: 12 | Info: Session '(c0,s1)_sinopac' keep-alive on tcp_TxRx detected session down, client name 'PYAPI/F129970274/0407/043506/574553/118.150.47.40', VPN name 'sinopac', peer host '203.66.91.161:80' address 'IP 203.66.91.161', connection 'tcp_TxRx' local address 'IP 1 | Event: Session reconnecting\n",
      "Response Code: 0 | Event Code: 13 | Info: host '203.66.91.161:80', hostname '203.66.91.161:80' IP 203.66.91.161:80 (host 1 of 1) (host connection attempt 1 of 1) (total reconnection attempt 1 of 10) | Event: Session reconnected\n"
     ]
    },
    {
     "name": "stderr",
     "output_type": "stream",
     "text": [
      "SDK NOTICE Sun Apr 07 21:12:59.142 2024 solClient.c:11120                    (1770b7000) Session '(c0,s1)_sinopac' keep-alive on tcp_TxRx detected session down, client name 'PYAPI/F129970274/0407/043506/574553/118.150.47.40', VPN name 'sinopac', peer host '203.66.91.161:80' address 'IP 203.66.91.161', connection 'tcp_TxRx' local address 'IP 192.168.100.9:52456'\n"
     ]
    },
    {
     "name": "stdout",
     "output_type": "stream",
     "text": [
      "Response Code: 0 | Event Code: 12 | Info: Session '(c0,s1)_sinopac' keep-alive on tcp_TxRx detected session down, client name 'PYAPI/F129970274/0407/043506/574553/118.150.47.40', VPN name 'sinopac', peer host '203.66.91.161:80' address 'IP 203.66.91.161', connection 'tcp_TxRx' local address 'IP 1 | Event: Session reconnecting\n",
      "Response Code: 0 | Event Code: 13 | Info: host '203.66.91.161:80', hostname '203.66.91.161:80' IP 203.66.91.161:80 (host 1 of 1) (host connection attempt 1 of 1) (total reconnection attempt 1 of 10) | Event: Session reconnected\n"
     ]
    },
    {
     "name": "stderr",
     "output_type": "stream",
     "text": [
      "SDK NOTICE Sun Apr 07 22:14:18.405 2024 solClient.c:11120                    (1770b7000) Session '(c0,s1)_sinopac' keep-alive on tcp_TxRx detected session down, client name 'PYAPI/F129970274/0407/043506/574553/118.150.47.40', VPN name 'sinopac', peer host '203.66.91.161:80' address 'IP 203.66.91.161', connection 'tcp_TxRx' local address 'IP 192.168.100.9:52488'\n"
     ]
    },
    {
     "name": "stdout",
     "output_type": "stream",
     "text": [
      "Response Code: 0 | Event Code: 12 | Info: Session '(c0,s1)_sinopac' keep-alive on tcp_TxRx detected session down, client name 'PYAPI/F129970274/0407/043506/574553/118.150.47.40', VPN name 'sinopac', peer host '203.66.91.161:80' address 'IP 203.66.91.161', connection 'tcp_TxRx' local address 'IP 1 | Event: Session reconnecting\n",
      "Response Code: 0 | Event Code: 13 | Info: host '203.66.91.161:80', hostname '203.66.91.161:80' IP 203.66.91.161:80 (host 1 of 1) (host connection attempt 1 of 1) (total reconnection attempt 1 of 10) | Event: Session reconnected\n"
     ]
    },
    {
     "name": "stderr",
     "output_type": "stream",
     "text": [
      "SDK NOTICE Sun Apr 07 22:32:11.951 2024 solClient.c:11120                    (1770b7000) Session '(c0,s1)_sinopac' keep-alive on tcp_TxRx detected session down, client name 'PYAPI/F129970274/0407/043506/574553/118.150.47.40', VPN name 'sinopac', peer host '203.66.91.161:80' address 'IP 203.66.91.161', connection 'tcp_TxRx' local address 'IP 192.168.100.9:53156'\n"
     ]
    },
    {
     "name": "stdout",
     "output_type": "stream",
     "text": [
      "Response Code: 0 | Event Code: 12 | Info: Session '(c0,s1)_sinopac' keep-alive on tcp_TxRx detected session down, client name 'PYAPI/F129970274/0407/043506/574553/118.150.47.40', VPN name 'sinopac', peer host '203.66.91.161:80' address 'IP 203.66.91.161', connection 'tcp_TxRx' local address 'IP 1 | Event: Session reconnecting\n",
      "Response Code: 0 | Event Code: 13 | Info: host '203.66.91.161:80', hostname '203.66.91.161:80' IP 203.66.91.161:80 (host 1 of 1) (host connection attempt 1 of 1) (total reconnection attempt 1 of 10) | Event: Session reconnected\n"
     ]
    },
    {
     "name": "stderr",
     "output_type": "stream",
     "text": [
      "SDK NOTICE Sun Apr 07 22:44:32.725 2024 solClient.c:11120                    (1770b7000) Session '(c0,s1)_sinopac' keep-alive on tcp_TxRx detected session down, client name 'PYAPI/F129970274/0407/043506/574553/118.150.47.40', VPN name 'sinopac', peer host '203.66.91.161:80' address 'IP 203.66.91.161', connection 'tcp_TxRx' local address 'IP 192.168.100.9:53187'\n"
     ]
    },
    {
     "name": "stdout",
     "output_type": "stream",
     "text": [
      "Response Code: 0 | Event Code: 12 | Info: Session '(c0,s1)_sinopac' keep-alive on tcp_TxRx detected session down, client name 'PYAPI/F129970274/0407/043506/574553/118.150.47.40', VPN name 'sinopac', peer host '203.66.91.161:80' address 'IP 203.66.91.161', connection 'tcp_TxRx' local address 'IP 1 | Event: Session reconnecting\n",
      "Response Code: 0 | Event Code: 13 | Info: host '203.66.91.161:80', hostname '203.66.91.161:80' IP 203.66.91.161:80 (host 1 of 1) (host connection attempt 1 of 1) (total reconnection attempt 1 of 10) | Event: Session reconnected\n"
     ]
    },
    {
     "name": "stderr",
     "output_type": "stream",
     "text": [
      "SDK NOTICE Sun Apr 07 23:55:33.374 2024 solClientOS.c:6131                   (1770b7000) TCP: Could not read from socket 84, error = Connection reset by peer (54)\n",
      "SDK NOTICE Sun Apr 07 23:55:33.374 2024 solClientSmf.c:7959                  (1770b7000) Read failed from transport 'compression' of session '(c0,s1)_sinopac' due to 'TCP: Could not read from socket 84, error = Connection reset by peer (54)', client name 'PYAPI/F129970274/0407/043506/574553/118.150.47.40', VPN name 'sinopac', peer host '203.66.91.161:80' address 'IP 203.66.91.161', connection 'tcp_TxRx' local address 'IP 192.168.100.9:53226'\n"
     ]
    },
    {
     "name": "stdout",
     "output_type": "stream",
     "text": [
      "Response Code: 0 | Event Code: 12 | Info: TCP: Could not read from socket 84, error = Connection reset by peer (54) | Event: Session reconnecting\n",
      "Response Code: 0 | Event Code: 13 | Info: host '203.66.91.161:80', hostname '203.66.91.161:80' IP 203.66.91.161:80 (host 1 of 1) (host connection attempt 1 of 1) (total reconnection attempt 1 of 10) | Event: Session reconnected\n"
     ]
    },
    {
     "name": "stderr",
     "output_type": "stream",
     "text": [
      "SDK NOTICE Mon Apr 08 00:00:08.287 2024 solClient.c:11120                    (1770b7000) Session '(c0,s1)_sinopac' keep-alive on tcp_TxRx detected session down, client name 'PYAPI/F129970274/0407/043506/574553/118.150.47.40', VPN name 'sinopac', peer host '203.66.91.161:80' address 'IP 203.66.91.161', connection 'tcp_TxRx' local address 'IP 192.168.100.9:53586'\n"
     ]
    },
    {
     "name": "stdout",
     "output_type": "stream",
     "text": [
      "Response Code: 0 | Event Code: 12 | Info: Session '(c0,s1)_sinopac' keep-alive on tcp_TxRx detected session down, client name 'PYAPI/F129970274/0407/043506/574553/118.150.47.40', VPN name 'sinopac', peer host '203.66.91.161:80' address 'IP 203.66.91.161', connection 'tcp_TxRx' local address 'IP 1 | Event: Session reconnecting\n",
      "Response Code: 0 | Event Code: 13 | Info: host '203.66.91.161:80', hostname '203.66.91.161:80' IP 203.66.91.161:80 (host 1 of 1) (host connection attempt 1 of 1) (total reconnection attempt 1 of 10) | Event: Session reconnected\n"
     ]
    },
    {
     "name": "stderr",
     "output_type": "stream",
     "text": [
      "SDK NOTICE Mon Apr 08 00:01:53.480 2024 solClient.c:11120                    (1770b7000) Session '(c0,s1)_sinopac' keep-alive on tcp_TxRx detected session down, client name 'PYAPI/F129970274/0407/043506/574553/118.150.47.40', VPN name 'sinopac', peer host '203.66.91.161:80' address 'IP 203.66.91.161', connection 'tcp_TxRx' local address 'IP 192.168.100.9:53594'\n"
     ]
    },
    {
     "name": "stdout",
     "output_type": "stream",
     "text": [
      "Response Code: 0 | Event Code: 12 | Info: Session '(c0,s1)_sinopac' keep-alive on tcp_TxRx detected session down, client name 'PYAPI/F129970274/0407/043506/574553/118.150.47.40', VPN name 'sinopac', peer host '203.66.91.161:80' address 'IP 203.66.91.161', connection 'tcp_TxRx' local address 'IP 1 | Event: Session reconnecting\n",
      "Response Code: 0 | Event Code: 13 | Info: host '203.66.91.161:80', hostname '203.66.91.161:80' IP 203.66.91.161:80 (host 1 of 1) (host connection attempt 1 of 1) (total reconnection attempt 1 of 10) | Event: Session reconnected\n"
     ]
    },
    {
     "name": "stderr",
     "output_type": "stream",
     "text": [
      "SDK NOTICE Mon Apr 08 00:23:02.589 2024 solClientOS.c:6131                   (1770b7000) TCP: Could not read from socket 84, error = Connection reset by peer (54)\n",
      "SDK NOTICE Mon Apr 08 00:23:02.589 2024 solClientSmf.c:7959                  (1770b7000) Read failed from transport 'compression' of session '(c0,s1)_sinopac' due to 'TCP: Could not read from socket 84, error = Connection reset by peer (54)', client name 'PYAPI/F129970274/0407/043506/574553/118.150.47.40', VPN name 'sinopac', peer host '203.66.91.161:80' address 'IP 203.66.91.161', connection 'tcp_TxRx' local address 'IP 192.168.100.9:53618'\n"
     ]
    },
    {
     "name": "stdout",
     "output_type": "stream",
     "text": [
      "Response Code: 0 | Event Code: 12 | Info: TCP: Could not read from socket 84, error = Connection reset by peer (54) | Event: Session reconnecting\n",
      "Response Code: 0 | Event Code: 13 | Info: host '203.66.91.161:80', hostname '203.66.91.161:80' IP 203.66.91.161:80 (host 1 of 1) (host connection attempt 1 of 1) (total reconnection attempt 1 of 10) | Event: Session reconnected\n"
     ]
    },
    {
     "name": "stderr",
     "output_type": "stream",
     "text": [
      "SDK NOTICE Mon Apr 08 00:24:39.617 2024 solClient.c:11120                    (1770b7000) Session '(c0,s1)_sinopac' keep-alive on tcp_TxRx detected session down, client name 'PYAPI/F129970274/0407/043506/574553/118.150.47.40', VPN name 'sinopac', peer host '203.66.91.161:80' address 'IP 203.66.91.161', connection 'tcp_TxRx' local address 'IP 192.168.100.9:53785'\n"
     ]
    },
    {
     "name": "stdout",
     "output_type": "stream",
     "text": [
      "Response Code: 0 | Event Code: 12 | Info: Session '(c0,s1)_sinopac' keep-alive on tcp_TxRx detected session down, client name 'PYAPI/F129970274/0407/043506/574553/118.150.47.40', VPN name 'sinopac', peer host '203.66.91.161:80' address 'IP 203.66.91.161', connection 'tcp_TxRx' local address 'IP 1 | Event: Session reconnecting\n",
      "Response Code: 0 | Event Code: 13 | Info: host '203.66.91.161:80', hostname '203.66.91.161:80' IP 203.66.91.161:80 (host 1 of 1) (host connection attempt 1 of 1) (total reconnection attempt 1 of 10) | Event: Session reconnected\n"
     ]
    }
   ],
   "source": [
    "# k棒的api使用方式\n",
    "kbars = api.kbars(\n",
    "    contract=api.Contracts.Stocks[\"2449\"], \n",
    "    start=\"2024-01-01\", \n",
    "    end=\"2024-03-21\", \n",
    ")\n",
    "df = pd.DataFrame({**kbars})\n",
    "df.ts = pd.to_datetime(df.ts)\n",
    "df.set_index('ts',inplace=True)\n",
    "\n",
    "# 日k13:30的K棒\n",
    "daily_df = df.resample('D').last().dropna()\n",
    "daily_df\n",
    "\n",
    "# 週k最後一天13:30的K棒\n",
    "# weekly_df=df.resample('D').last().dropna()\n",
    "\n",
    "# weekly_df"
   ]
  },
  {
   "cell_type": "code",
   "execution_count": 24,
   "id": "2f4562a3",
   "metadata": {},
   "outputs": [
    {
     "data": {
      "image/png": "[encoded data removed]",
      "text/plain": [
       "<Figure size 1000x600 with 1 Axes>"
      ]
     },
     "metadata": {},
     "output_type": "display_data"
    }
   ],
   "source": [
    "# 計算5日均線\n",
    "daily_df['5MA'] = daily_df['Close'].rolling(window=5).mean()\n",
    "\n",
    "# 繪製收盤價和5日均線\n",
    "plt.figure(figsize=(10, 6))\n",
    "plt.plot(daily_df.index, daily_df['Close'], label='Close Price', color='blue')\n",
    "plt.plot(daily_df.index, daily_df['5MA'], label='5-day MA', color='red')\n",
    "plt.xlabel('Date')\n",
    "plt.ylabel('Price')\n",
    "plt.title('Stock Price with 5-day Moving Average')\n",
    "plt.legend()\n",
    "plt.grid(True)\n",
    "plt.show()"
   ]
  },
  {
   "cell_type": "code",
   "execution_count": 30,
   "id": "8c541a13",
   "metadata": {},
   "outputs": [
    {
     "data": {
      "image/png": "[encoded data removed]",
      "text/plain": [
       "<Figure size 1000x600 with 1 Axes>"
      ]
     },
     "metadata": {},
     "output_type": "display_data"
    }
   ],
   "source": [
    "# 計算10日均線\n",
    "daily_df['10MA'] = daily_df['Close'].rolling(window=10).mean()\n",
    "\n",
    "# 繪製收盤價和10日均線\n",
    "plt.figure(figsize=(10, 6))\n",
    "plt.plot(daily_df.index, daily_df['Close'], label='Close Price', color='blue')\n",
    "plt.plot(daily_df.index, daily_df['10MA'], label='10-day MA', color='orange')\n",
    "plt.xlabel('Date')\n",
    "plt.ylabel('Price')\n",
    "plt.title('Stock Price with 10-day Moving Average')\n",
    "plt.legend()\n",
    "plt.grid(True)\n",
    "plt.show()"
   ]
  },
  {
   "cell_type": "code",
   "execution_count": 29,
   "id": "fb160315",
   "metadata": {},
   "outputs": [
    {
     "data": {
      "image/png": "[encoded data removed]",
      "text/plain": [
       "<Figure size 2000x600 with 1 Axes>"
      ]
     },
     "metadata": {},
     "output_type": "display_data"
    }
   ],
   "source": [
    "# 計算20日均線\n",
    "daily_df['20MA'] = daily_df['Close'].rolling(window=20).mean()\n",
    "\n",
    "# 繪製收盤價和20日均線\n",
    "plt.figure(figsize=(20, 6))\n",
    "plt.plot(daily_df.index, daily_df['Close'], label='Close Price', color='blue')\n",
    "plt.plot(daily_df.index, daily_df['20MA'], label='20-day MA', color='green')\n",
    "plt.xlabel('Date')\n",
    "plt.ylabel('Price')\n",
    "plt.title('Stock Price with 20-day Moving Average')\n",
    "plt.legend()\n",
    "plt.grid(True)\n",
    "plt.show()"
   ]
  },
  {
   "cell_type": "code",
   "execution_count": null,
   "id": "9c205770",
   "metadata": {},
   "outputs": [],
   "source": []
  }
 ],
 "metadata": {
  "kernelspec": {
   "display_name": "Python 3 (ipykernel)",
   "language": "python",
   "name": "python3"
  },
  "language_info": {
   "codemirror_mode": {
    "name": "ipython",
    "version": 3
   },
   "file_extension": ".py",
   "mimetype": "text/x-python",
   "name": "python",
   "nbconvert_exporter": "python",
   "pygments_lexer": "ipython3",
   "version": "3.11.4"
  }
 },
 "nbformat": 4,
 "nbformat_minor": 5
}
