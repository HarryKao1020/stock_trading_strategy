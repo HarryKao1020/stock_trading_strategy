{
 "cells": [
  {
   "cell_type": "code",
   "execution_count": 1,
   "id": "ec2e5cd2",
   "metadata": {},
   "outputs": [
    {
     "name": "stdout",
     "output_type": "stream",
     "text": [
      "Requirement already satisfied: shioaji in /opt/homebrew/anaconda3/lib/python3.11/site-packages (1.2.3)\n",
      "Requirement already satisfied: base58 in /opt/homebrew/anaconda3/lib/python3.11/site-packages (from shioaji) (2.1.1)\n",
      "Requirement already satisfied: importlib-metadata in /opt/homebrew/anaconda3/lib/python3.11/site-packages (from shioaji) (6.0.0)\n",
      "Requirement already satisfied: pydantic in /opt/homebrew/anaconda3/lib/python3.11/site-packages (from shioaji) (2.6.4)\n",
      "Requirement already satisfied: pynacl>=1.3.0 in /opt/homebrew/anaconda3/lib/python3.11/site-packages (from shioaji) (1.5.0)\n",
      "Requirement already satisfied: pyrsca in /opt/homebrew/anaconda3/lib/python3.11/site-packages (from shioaji) (0.1.1)\n",
      "Requirement already satisfied: pysolace==0.9.40 in /opt/homebrew/anaconda3/lib/python3.11/site-packages (from shioaji) (0.9.40)\n",
      "Requirement already satisfied: requests in /opt/homebrew/anaconda3/lib/python3.11/site-packages (from shioaji) (2.31.0)\n",
      "Requirement already satisfied: sentry-sdk==1.5.12 in /opt/homebrew/anaconda3/lib/python3.11/site-packages (from shioaji) (1.5.12)\n",
      "Requirement already satisfied: typing-extensions in /opt/homebrew/anaconda3/lib/python3.11/site-packages (from shioaji) (4.7.1)\n",
      "Requirement already satisfied: xxhash in /opt/homebrew/anaconda3/lib/python3.11/site-packages (from shioaji) (2.0.2)\n",
      "Requirement already satisfied: loguru==0.6.0 in /opt/homebrew/anaconda3/lib/python3.11/site-packages (from shioaji) (0.6.0)\n",
      "Requirement already satisfied: filelock==3.4.1 in /opt/homebrew/anaconda3/lib/python3.11/site-packages (from shioaji) (3.4.1)\n",
      "Requirement already satisfied: orjson in /opt/homebrew/anaconda3/lib/python3.11/site-packages (from pysolace==0.9.40->shioaji) (3.9.15)\n",
      "Requirement already satisfied: msgpack in /opt/homebrew/anaconda3/lib/python3.11/site-packages (from pysolace==0.9.40->shioaji) (1.0.3)\n",
      "Requirement already satisfied: urllib3>=1.10.0 in /opt/homebrew/anaconda3/lib/python3.11/site-packages (from sentry-sdk==1.5.12->shioaji) (1.26.16)\n",
      "Requirement already satisfied: certifi in /opt/homebrew/anaconda3/lib/python3.11/site-packages (from sentry-sdk==1.5.12->shioaji) (2023.7.22)\n",
      "Requirement already satisfied: cffi>=1.4.1 in /opt/homebrew/anaconda3/lib/python3.11/site-packages (from pynacl>=1.3.0->shioaji) (1.15.1)\n",
      "Requirement already satisfied: zipp>=0.5 in /opt/homebrew/anaconda3/lib/python3.11/site-packages (from importlib-metadata->shioaji) (3.11.0)\n",
      "Requirement already satisfied: annotated-types>=0.4.0 in /opt/homebrew/anaconda3/lib/python3.11/site-packages (from pydantic->shioaji) (0.6.0)\n",
      "Requirement already satisfied: pydantic-core==2.16.3 in /opt/homebrew/anaconda3/lib/python3.11/site-packages (from pydantic->shioaji) (2.16.3)\n",
      "Requirement already satisfied: charset-normalizer<4,>=2 in /opt/homebrew/anaconda3/lib/python3.11/site-packages (from requests->shioaji) (2.0.4)\n",
      "Requirement already satisfied: idna<4,>=2.5 in /opt/homebrew/anaconda3/lib/python3.11/site-packages (from requests->shioaji) (3.4)\n",
      "Requirement already satisfied: pycparser in /opt/homebrew/anaconda3/lib/python3.11/site-packages (from cffi>=1.4.1->pynacl>=1.3.0->shioaji) (2.21)\n"
     ]
    },
    {
     "name": "stderr",
     "output_type": "stream",
     "text": [
      "2024-04-07 00:54:02.868 | WARNING  | importlib._bootstrap:_call_with_frames_removed:241 - Optional: pip install shioaji[speed] for better performance.\n"
     ]
    },
    {
     "name": "stdout",
     "output_type": "stream",
     "text": [
      "Response Code: 0 | Event Code: 0 | Info: host '203.66.91.161:80', hostname '203.66.91.161:80' IP 203.66.91.161:80 (host 1 of 1) (host connection attempt 1 of 1) (total connection attempt 1 of 1) | Event: Session up\n"
     ]
    }
   ],
   "source": [
    "!pip install shioaji\n",
    "import numpy as np\n",
    "import pandas as pd\n",
    "import requests\n",
    "import shioaji as sj\n",
    "import datetime\n",
    "import matplotlib.pyplot as plt\n",
    "import matplotlib.animation as animation\n",
    "\n",
    "# 建立API物件，simulation=True是代表測試帳號\n",
    "api = sj.Shioaji(simulation=True)\n",
    "\n",
    "#登入你的key\n",
    "accounts = api.login()\n",
    "\n"
   ]
  },
  {
   "cell_type": "code",
   "execution_count": 3,
   "id": "9bee460f",
   "metadata": {},
   "outputs": [
    {
     "name": "stdout",
     "output_type": "stream",
     "text": [
      "今天的日期: 2024-04-07\n",
      "180天前的日期: 2023-10-10\n"
     ]
    },
    {
     "name": "stderr",
     "output_type": "stream",
     "text": [
      "SDK NOTICE Sun Apr 07 01:22:35.656 2024 solClientOS.c:6131                   (177737000) TCP: Could not read from socket 82, error = Connection reset by peer (54)\n",
      "SDK NOTICE Sun Apr 07 01:22:35.657 2024 solClientSmf.c:7959                  (177737000) Read failed from transport 'compression' of session '(c0,s1)_sinopac' due to 'TCP: Could not read from socket 82, error = Connection reset by peer (54)', client name 'PYAPI/F129970274/0406/165403/909938/118.150.47.40', VPN name 'sinopac', peer host '203.66.91.161:80' address 'IP 203.66.91.161', connection 'tcp_TxRx' local address 'IP 192.168.100.9:50793'\n"
     ]
    },
    {
     "name": "stdout",
     "output_type": "stream",
     "text": [
      "Response Code: 0 | Event Code: 12 | Info: TCP: Could not read from socket 82, error = Connection reset by peer (54) | Event: Session reconnecting\n",
      "Response Code: 0 | Event Code: 13 | Info: host '203.66.91.161:80', hostname '203.66.91.161:80' IP 203.66.91.161:80 (host 1 of 1) (host connection attempt 1 of 1) (total reconnection attempt 1 of 10) | Event: Session reconnected\n"
     ]
    },
    {
     "name": "stderr",
     "output_type": "stream",
     "text": [
      "SDK NOTICE Sun Apr 07 01:40:09.820 2024 solClient.c:11120                    (177737000) Session '(c0,s1)_sinopac' keep-alive on tcp_TxRx detected session down, client name 'PYAPI/F129970274/0406/165403/909938/118.150.47.40', VPN name 'sinopac', peer host '203.66.91.161:80' address 'IP 203.66.91.161', connection 'tcp_TxRx' local address 'IP 192.168.100.9:51721'\n"
     ]
    },
    {
     "name": "stdout",
     "output_type": "stream",
     "text": [
      "Response Code: 0 | Event Code: 12 | Info: Session '(c0,s1)_sinopac' keep-alive on tcp_TxRx detected session down, client name 'PYAPI/F129970274/0406/165403/909938/118.150.47.40', VPN name 'sinopac', peer host '203.66.91.161:80' address 'IP 203.66.91.161', connection 'tcp_TxRx' local address 'IP 1 | Event: Session reconnecting\n",
      "Response Code: 0 | Event Code: 13 | Info: host '203.66.91.161:80', hostname '203.66.91.161:80' IP 203.66.91.161:80 (host 1 of 1) (host connection attempt 1 of 1) (total reconnection attempt 1 of 10) | Event: Session reconnected\n"
     ]
    },
    {
     "name": "stderr",
     "output_type": "stream",
     "text": [
      "SDK NOTICE Sun Apr 07 01:47:06.960 2024 solClient.c:11120                    (177737000) Session '(c0,s1)_sinopac' keep-alive on tcp_TxRx detected session down, client name 'PYAPI/F129970274/0406/165403/909938/118.150.47.40', VPN name 'sinopac', peer host '203.66.91.161:80' address 'IP 203.66.91.161', connection 'tcp_TxRx' local address 'IP 192.168.100.9:51766'\n"
     ]
    },
    {
     "name": "stdout",
     "output_type": "stream",
     "text": [
      "Response Code: 0 | Event Code: 12 | Info: Session '(c0,s1)_sinopac' keep-alive on tcp_TxRx detected session down, client name 'PYAPI/F129970274/0406/165403/909938/118.150.47.40', VPN name 'sinopac', peer host '203.66.91.161:80' address 'IP 203.66.91.161', connection 'tcp_TxRx' local address 'IP 1 | Event: Session reconnecting\n",
      "Response Code: 0 | Event Code: 13 | Info: host '203.66.91.161:80', hostname '203.66.91.161:80' IP 203.66.91.161:80 (host 1 of 1) (host connection attempt 1 of 1) (total reconnection attempt 1 of 10) | Event: Session reconnected\n"
     ]
    }
   ],
   "source": [
    "from datetime import date, timedelta\n",
    "today = date.today()\n",
    "delta = timedelta(days=180)\n",
    "date_180 = today - delta\n",
    "\n",
    "print(\"今天的日期:\", today)\n",
    "print(\"180天前的日期:\", date_180)\n"
   ]
  },
  {
   "cell_type": "code",
   "execution_count": 33,
   "id": "4892adcf",
   "metadata": {},
   "outputs": [
    {
     "name": "stdout",
     "output_type": "stream",
     "text": [
      "(275.5, 278.4)\n",
      "              5MA    10MA     20MA  20MA/60MA   5MA_diff  10MA_diff\n",
      "ts                                                                 \n",
      "2023-10-03    NaN     NaN      NaN        NaN        NaN        NaN\n",
      "2023-10-04    NaN     NaN      NaN        NaN        NaN        NaN\n",
      "2023-10-05    NaN     NaN      NaN        NaN        NaN        NaN\n",
      "2023-10-06    NaN     NaN      NaN        NaN        NaN        NaN\n",
      "2023-10-11  248.2     NaN      NaN        NaN  14.413793        NaN\n",
      "...           ...     ...      ...        ...        ...        ...\n",
      "2024-03-25  254.6  253.40  246.925        NaN  12.206897  12.620690\n",
      "2024-03-26  254.0  253.35  247.575        NaN  12.413793  12.637931\n",
      "2024-03-27  255.7  254.05  248.825        NaN  11.827586  12.396552\n",
      "2024-03-28  260.8  257.70  251.225        NaN  10.068966  11.137931\n",
      "2024-03-29  268.0  261.30  254.050        NaN   7.586207   9.896552\n",
      "\n",
      "[118 rows x 6 columns]\n"
     ]
    }
   ],
   "source": [
    "buy_price=int(290)\n",
    "stock_code=str(2382)\n",
    "def calculate_stop_loss(buy_price):\n",
    "    stop_loss_five_percent = buy_price*0.95\n",
    "    stop_loss_four_percent = buy_price*0.96\n",
    "    return stop_loss_five_percent, stop_loss_four_percent  # 設定停損價格為買進價格的90%\n",
    "\n",
    "\n",
    "def calculate_moving_averages(stock_code, window=60, buy_price=None):\n",
    "\n",
    "    # 取得歷史股價資料\n",
    "    # k棒的api使用方式\n",
    "    kbars = api.kbars(\n",
    "        contract=api.Contracts.Stocks[stock_code], \n",
    "        start=str(date_180), \n",
    "        end=str(today), \n",
    "    )\n",
    "    df = pd.DataFrame({**kbars})\n",
    "    df.ts = pd.to_datetime(df.ts)\n",
    "    df.set_index('ts',inplace=True)\n",
    "\n",
    "    # 日k13:30的K棒\n",
    "    df = df.resample('D').last().dropna()\n",
    "\n",
    "    \n",
    "\n",
    "    # 計算移動平均線\n",
    "    df['5MA'] = df['Close'].rolling(window=5).mean()\n",
    "    df['10MA'] = df['Close'].rolling(window=10).mean()\n",
    "    df['20MA'] = df['Close'].rolling(window=20).mean()\n",
    "    df['60MA'] = df['Close'].rolling(window=60).mean()\n",
    "    df['20MA/60MA'] = df['20MA'] / df['60MA'].rolling(window=window).mean()\n",
    "    # 計算價格差距百分比\n",
    "    if buy_price is not None:\n",
    "        df['5MA_diff'] = (buy_price - df['5MA']) / buy_price * 100\n",
    "        df['10MA_diff'] = (buy_price - df['10MA']) / buy_price * 100\n",
    "        df['20MA_diff'] = (buy_price - df['20MA']) / buy_price * 100\n",
    "        df['60MA_diff'] = (buy_price - df['60MA']) / buy_price * 100\n",
    "        \n",
    "    return df[['5MA', '10MA', '20MA', '20MA/60MA','5MA_diff','10MA_diff']]\n",
    "\n",
    "print(calculate_stop_loss(buy_price))\n",
    "print(calculate_moving_averages(stock_code, window=60, buy_price=290))"
   ]
  },
  {
   "cell_type": "code",
   "execution_count": null,
   "id": "46fbdf39",
   "metadata": {},
   "outputs": [],
   "source": []
  }
 ],
 "metadata": {
  "kernelspec": {
   "display_name": "Python 3 (ipykernel)",
   "language": "python",
   "name": "python3"
  },
  "language_info": {
   "codemirror_mode": {
    "name": "ipython",
    "version": 3
   },
   "file_extension": ".py",
   "mimetype": "text/x-python",
   "name": "python",
   "nbconvert_exporter": "python",
   "pygments_lexer": "ipython3",
   "version": "3.11.8"
  }
 },
 "nbformat": 4,
 "nbformat_minor": 5
}
